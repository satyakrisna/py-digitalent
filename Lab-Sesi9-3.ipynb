{
 "cells": [
  {
   "cell_type": "markdown",
   "metadata": {
    "colab_type": "text",
    "id": "ahIGbAtsqcA-"
   },
   "source": [
    "![title](img/header.png)"
   ]
  },
  {
   "cell_type": "markdown",
   "metadata": {
    "colab_type": "text",
    "id": "4fWt5Ip6qcA_"
   },
   "source": [
    "<h1>Fungsi di Python</h1>"
   ]
  },
  {
   "cell_type": "markdown",
   "metadata": {
    "colab_type": "text",
    "id": "Ea4cTGrQqcBA"
   },
   "source": [
    "<p><strong>Selamat Datang!</strong> Notebook ini akan mengajarkan Anda tentang fungsi pada bahasa pemrograman Python. Akhir dari nnotebook ini, Anda akan tahu konsep dasar dari fungsi, variabel, dan bagaimana cara menggunakan fungsi.</p>"
   ]
  },
  {
   "cell_type": "markdown",
   "metadata": {
    "colab_type": "text",
    "id": "Xrnk4Lr8qcBB"
   },
   "source": [
    "<h2>Daftar Isi</h2>\n",
    "<div class=\"alert alert-block alert-info\" style=\"margin-top: 20px\">\n",
    "    <ul>\n",
    "        <li>\n",
    "            <a href=\"#func\">Fungsi</a>\n",
    "            <ul>\n",
    "                <li><a href=\"content\">Apa itu fungsi?</a></li>\n",
    "                <li><a href=\"var\">Variabel</a></li>\n",
    "                <li><a href=\"simple\">Fungsi membuat segalanya sederhana</a></li>\n",
    "            </ul>\n",
    "        </li>\n",
    "        <li><a href=\"pre\">Mendefinisikan functions</a></li>\n",
    "        <li><a href=\"if\">Menggunakan <code>if</code>/<code>else</code> dan Loops dalam fungsi</a></li>\n",
    "        <li><a href=\"default\">Mengatur nilai argumen standar pada fungsi Anda</a></li>\n",
    "        <li><a href=\"global\">Variabel global</a></li>\n",
    "        <li><a href=\"scope\">Ruang lingkup variabel</a></li>\n",
    "        <li>\n",
    "            <a href=\"#quiz\">Kuis Mengenai Loops</a>\n",
    "        </li>\n",
    "    </ul>\n",
    "    <p>\n",
    "        Prakiraan waktu yang dibutuhkan: <strong>40 menit</strong>\n",
    "    </p>\n",
    "</div>\n",
    "\n",
    "<hr>"
   ]
  },
  {
   "cell_type": "markdown",
   "metadata": {
    "colab_type": "text",
    "id": "C2sYI8XqqcBC"
   },
   "source": [
    "<h2 id=\"func\">Fungsi</h2>"
   ]
  },
  {
   "cell_type": "markdown",
   "metadata": {
    "colab_type": "text",
    "id": "6kk2Jk2TqcBC"
   },
   "source": [
    "Sebuah fungsi adalah kode yang dapat digunakan kembali yang mana operasinya ditentukan dalam fungsi. Fungsi membolehkan Anda memecah tugas dan menggunakan kembali kode dalam program yang berbeda.\n",
    "\n",
    "Ada dua jenis fungsi :\n",
    "\n",
    "- <b>Pre-defined Function</b>\n",
    "- <b>User defined Function</b>"
   ]
  },
  {
   "cell_type": "markdown",
   "metadata": {
    "colab_type": "text",
    "id": "_N8UIk7xqcBD"
   },
   "source": [
    "<h3 id=\"content\">Apa itu fungsi?</h3>"
   ]
  },
  {
   "cell_type": "markdown",
   "metadata": {
    "colab_type": "text",
    "id": "mA643IaBqcBE"
   },
   "source": [
    "Anda dapat mendefinisikan fungsi untuk menyediakan fungsional yang dibutuhkan. Berikut adalah aturan sederhana dalam mendefinisikan sebuah fungsi dalam Python:\n",
    "-  Sebuah fungsi diawali <code>def</code> diikuti dengan  <code>nama</code> fungsinya dan tanda kurung <code>()</code>.\n",
    "-  There are input parameters or arguments that should be placed within these parentheses. \n",
    "-  Anda juga bisa mendefinisikan parameter didalam tanda kurung ini\n",
    "-  Ada body didalam tiap fungsi yang dimulai dengan titik dua (<code>:</code>) dan kemudian kode dalam inden.\n",
    "-  Anda juga bisa menaruh dokumentasi sebelum body.\n",
    "-  Pernyataan <code>return</code> keluar dari fungsi, secara opsional meneruskan kembali suatu nilai.\n",
    "\n",
    "Sebagai contoh dari sebuah fungsi adalah add untuk menambahkan parameter <code>a</code> dan mengembalikan nilai <code>b</code> sebagai output:"
   ]
  },
  {
   "cell_type": "code",
   "execution_count": 1,
   "metadata": {
    "colab": {},
    "colab_type": "code",
    "collapsed": true,
    "id": "6dv3pfBEqcBF"
   },
   "outputs": [],
   "source": [
    "# Contoh fungsi pertama: menambahkan 1 ke a dan menyimpannya sebagai b\n",
    "\n",
    "def add(a):\n",
    "    b = a + 1\n",
    "    print(a, \"if you add one\", b)\n",
    "    return(b)"
   ]
  },
  {
   "cell_type": "markdown",
   "metadata": {
    "colab_type": "text",
    "id": "PU0xHo52qcBJ"
   },
   "source": [
    "Gambar berikut mengilustrasikan terminologinya:"
   ]
  },
  {
   "cell_type": "markdown",
   "metadata": {
    "colab_type": "text",
    "id": "OYWwYXKAqcBK"
   },
   "source": [
    "<img src=\"https://s3-api.us-geo.objectstorage.softlayer.net/cf-courses-data/CognitiveClass/PY0101EN/Chapter%203/Images/FuncsDefinition.png\" width=\"500\" /> "
   ]
  },
  {
   "cell_type": "markdown",
   "metadata": {
    "colab_type": "text",
    "id": "npyWdeiZqcBL"
   },
   "source": [
    "Kita bisa mendapatkan bantuan tentang fungsi:"
   ]
  },
  {
   "cell_type": "code",
   "execution_count": 2,
   "metadata": {
    "colab": {},
    "colab_type": "code",
    "id": "aHPEujF6qcBM"
   },
   "outputs": [
    {
     "name": "stdout",
     "output_type": "stream",
     "text": [
      "Help on function add in module __main__:\n",
      "\n",
      "add(a)\n",
      "\n"
     ]
    }
   ],
   "source": [
    "# Mendapatkan bantuan tentang fungsi add()\n",
    "\n",
    "help(add)"
   ]
  },
  {
   "cell_type": "markdown",
   "metadata": {
    "colab_type": "text",
    "id": "YE2GGTRaqcBP"
   },
   "source": [
    "Memanggil fungsi:"
   ]
  },
  {
   "cell_type": "code",
   "execution_count": 3,
   "metadata": {
    "colab": {},
    "colab_type": "code",
    "id": "yYVZMv52qcBQ"
   },
   "outputs": [
    {
     "name": "stdout",
     "output_type": "stream",
     "text": [
      "1 if you add one 2\n"
     ]
    },
    {
     "data": {
      "text/plain": [
       "2"
      ]
     },
     "execution_count": 3,
     "metadata": {},
     "output_type": "execute_result"
    }
   ],
   "source": [
    "# Memanggil fungsi add()\n",
    "\n",
    "add(1)"
   ]
  },
  {
   "cell_type": "markdown",
   "metadata": {
    "colab_type": "text",
    "id": "MSn-LKOCqcBT"
   },
   "source": [
    "Jika kita panggil fungsi dengan sebuah input baru, kita dapatkan hasil yang baru:"
   ]
  },
  {
   "cell_type": "code",
   "execution_count": 4,
   "metadata": {
    "colab": {},
    "colab_type": "code",
    "id": "BS-pnR11qcBT"
   },
   "outputs": [
    {
     "name": "stdout",
     "output_type": "stream",
     "text": [
      "2 if you add one 3\n"
     ]
    },
    {
     "data": {
      "text/plain": [
       "3"
      ]
     },
     "execution_count": 4,
     "metadata": {},
     "output_type": "execute_result"
    }
   ],
   "source": [
    "# Panggil fungsi add()\n",
    "\n",
    "add(2)"
   ]
  },
  {
   "cell_type": "markdown",
   "metadata": {
    "colab_type": "text",
    "id": "KnALz16LqcBW"
   },
   "source": [
    "Kita bisa membuat fungsi yang berbeda. Sebagai contoh, kita bisa membuat sebuah fungsi yang mengkalikan dua angka. Angka akan di representasikan oleh variabel  <code>a</code> dan <code>b</code>:"
   ]
  },
  {
   "cell_type": "code",
   "execution_count": 5,
   "metadata": {
    "colab": {},
    "colab_type": "code",
    "collapsed": true,
    "id": "pxiCwYP7qcBX"
   },
   "outputs": [],
   "source": [
    "# Mendefinisikan fungsi untuk mengkalikan dua buah angka\n",
    "\n",
    "def Mult(a, b):\n",
    "    c = a * b\n",
    "    return(c)"
   ]
  },
  {
   "cell_type": "markdown",
   "metadata": {
    "colab_type": "text",
    "id": "aBq5Zi4_qcBb"
   },
   "source": [
    "Fungsi yang sama bisa digunakan untuk tipe data yang berbeda. COntoohnya, kita akan mengkalikan dua integer:"
   ]
  },
  {
   "cell_type": "code",
   "execution_count": 6,
   "metadata": {
    "colab": {},
    "colab_type": "code",
    "id": "_rRwsdAAqcBc"
   },
   "outputs": [
    {
     "data": {
      "text/plain": [
       "6"
      ]
     },
     "execution_count": 6,
     "metadata": {},
     "output_type": "execute_result"
    }
   ],
   "source": [
    "# Gunakan mult() untuk mengkalikan dua integer\n",
    "\n",
    "Mult(2, 3)"
   ]
  },
  {
   "cell_type": "markdown",
   "metadata": {
    "colab_type": "text",
    "id": "62U7TaffqcBg"
   },
   "source": [
    "Dua tipe data floats:"
   ]
  },
  {
   "cell_type": "code",
   "execution_count": 7,
   "metadata": {
    "colab": {},
    "colab_type": "code",
    "id": "c3bevn8CqcBh"
   },
   "outputs": [
    {
     "data": {
      "text/plain": [
       "31.400000000000002"
      ]
     },
     "execution_count": 7,
     "metadata": {},
     "output_type": "execute_result"
    }
   ],
   "source": [
    "# Gunakanan mult() untuk mengkalikan dua tipe data floats\n",
    "\n",
    "Mult(10.0, 3.14)"
   ]
  },
  {
   "cell_type": "markdown",
   "metadata": {
    "colab_type": "text",
    "id": "KGiZaMofqcBj"
   },
   "source": [
    "Kita bahkan bisa mereplikasi string dengan mengkalikannya dengan bilangan bulat:"
   ]
  },
  {
   "cell_type": "code",
   "execution_count": 8,
   "metadata": {
    "colab": {},
    "colab_type": "code",
    "id": "cWGCGnHNqcBk"
   },
   "outputs": [
    {
     "data": {
      "text/plain": [
       "'Michael Jackson Michael Jackson '"
      ]
     },
     "execution_count": 8,
     "metadata": {},
     "output_type": "execute_result"
    }
   ],
   "source": [
    "# Gunakan mult() untuk mengkalikan dua tipe data berbeda secara bersamaan\n",
    "\n",
    "Mult(2, \"Michael Jackson \")"
   ]
  },
  {
   "cell_type": "markdown",
   "metadata": {
    "colab_type": "text",
    "id": "eUGDw3MsqcBn"
   },
   "source": [
    "<h3 id=\"var\">Variabel</h3>"
   ]
  },
  {
   "cell_type": "markdown",
   "metadata": {
    "colab_type": "text",
    "id": "1PoOZX0dqcBn"
   },
   "source": [
    "Input ke dalam sebuah fungsi disebut dengan formal parameter.\n",
    "\n",
    "Sebuah variabel yang dideklarasikan didalam fungsi disebut dengan variabel lokal. Parameter hanya ada didalam fungsi (yaitu dimana fungsi dimulai dan berhenti)\n",
    "\n",
    "Sebuah variabel yang dideklarasikan diluar fungsi adalah variabel global, dan nilainya dapat diakses dan di modifikasi melalui program. Kita akan membahasnya lebih lanjut tentang variabel global di akhir."
   ]
  },
  {
   "cell_type": "code",
   "execution_count": 9,
   "metadata": {
    "colab": {},
    "colab_type": "code",
    "collapsed": true,
    "id": "s_2RInNkqcBo"
   },
   "outputs": [],
   "source": [
    "# Mendefinisikan fungsi\n",
    "\n",
    "def square(a):\n",
    "    \n",
    "    # Local variable b\n",
    "    b = 1\n",
    "    c = a * a + b\n",
    "    print(a, \"if you square + 1\", c) \n",
    "    return(c)"
   ]
  },
  {
   "cell_type": "markdown",
   "metadata": {
    "colab_type": "text",
    "id": "bKnxRIliqcBq"
   },
   "source": [
    "\n",
    "Label ditampilkan pada gambar dibawah:"
   ]
  },
  {
   "cell_type": "markdown",
   "metadata": {
    "colab_type": "text",
    "id": "-b8q89MGqcBr"
   },
   "source": [
    "<img src=\"https://s3-api.us-geo.objectstorage.softlayer.net/cf-courses-data/CognitiveClass/PY0101EN/Chapter%203/Images/FuncsVar.png\" width=\"500\" />"
   ]
  },
  {
   "cell_type": "markdown",
   "metadata": {
    "colab_type": "text",
    "id": "KRM2XpYnqcBs"
   },
   "source": [
    "Kita dapat memanggil fungsi dengan input **3** :"
   ]
  },
  {
   "cell_type": "code",
   "execution_count": 10,
   "metadata": {
    "colab": {},
    "colab_type": "code",
    "id": "FZlo47_3qcBs"
   },
   "outputs": [
    {
     "name": "stdout",
     "output_type": "stream",
     "text": [
      "3 if you square + 1 10\n"
     ]
    },
    {
     "data": {
      "text/plain": [
       "10"
      ]
     },
     "execution_count": 10,
     "metadata": {},
     "output_type": "execute_result"
    }
   ],
   "source": [
    "# Inisialisasi variabel global\n",
    "\n",
    "x = 3\n",
    "# Buat fungsi memanggil dan mengembalikan fungsi y\n",
    "y = square(x)\n",
    "y"
   ]
  },
  {
   "cell_type": "markdown",
   "metadata": {
    "colab_type": "text",
    "id": "W6U59PdaqcBv"
   },
   "source": [
    "  Kita dapat memanggi fungsi dengan input **2** dengan cara yang lain:"
   ]
  },
  {
   "cell_type": "code",
   "execution_count": 11,
   "metadata": {
    "colab": {},
    "colab_type": "code",
    "id": "y-ykg3OyqcBw"
   },
   "outputs": [
    {
     "name": "stdout",
     "output_type": "stream",
     "text": [
      "2 if you square + 1 5\n"
     ]
    },
    {
     "data": {
      "text/plain": [
       "5"
      ]
     },
     "execution_count": 11,
     "metadata": {},
     "output_type": "execute_result"
    }
   ],
   "source": [
    "#Secara langsung masukkan angka sebagai parameter\n",
    "\n",
    "square(2)"
   ]
  },
  {
   "cell_type": "markdown",
   "metadata": {
    "colab_type": "text",
    "id": "pvmVv6-yqcBy"
   },
   "source": [
    "Jika disana tidak ada pernyataan <code>return</code>, fungsi tersebut akan mengembalikan <code>None</code>. Berikut adalah dua fungsi yang mirip:"
   ]
  },
  {
   "cell_type": "code",
   "execution_count": 12,
   "metadata": {
    "colab": {},
    "colab_type": "code",
    "collapsed": true,
    "id": "H4QYgUv4qcB0"
   },
   "outputs": [],
   "source": [
    "# Definisikan fungsi, satu mengembailkan nilai None dan lainnya tanpa nilai yang dikembalikan\n",
    "\n",
    "def MJ():\n",
    "    print('Michael Jackson')\n",
    "    \n",
    "def MJ1():\n",
    "    print('Michael Jackson')\n",
    "    return(None)"
   ]
  },
  {
   "cell_type": "code",
   "execution_count": 13,
   "metadata": {
    "colab": {},
    "colab_type": "code",
    "id": "C02oGcntqcB5"
   },
   "outputs": [
    {
     "name": "stdout",
     "output_type": "stream",
     "text": [
      "Michael Jackson\n"
     ]
    }
   ],
   "source": [
    "# Lihat output-nya\n",
    "\n",
    "MJ()"
   ]
  },
  {
   "cell_type": "code",
   "execution_count": 14,
   "metadata": {
    "colab": {},
    "colab_type": "code",
    "id": "kkhE3CtwqcB-"
   },
   "outputs": [
    {
     "name": "stdout",
     "output_type": "stream",
     "text": [
      "Michael Jackson\n"
     ]
    }
   ],
   "source": [
    "# Lihat output-nya\n",
    "\n",
    "MJ1()"
   ]
  },
  {
   "cell_type": "markdown",
   "metadata": {
    "colab_type": "text",
    "id": "V5k-Ew5yqcCD"
   },
   "source": [
    "Dengan print sebuah fungsi dapat mengetahui apakah mengembalikan **None** sebagai nilai returnnya:"
   ]
  },
  {
   "cell_type": "code",
   "execution_count": 15,
   "metadata": {
    "colab": {},
    "colab_type": "code",
    "id": "n2BWh-9SqcCE"
   },
   "outputs": [
    {
     "name": "stdout",
     "output_type": "stream",
     "text": [
      "Michael Jackson\n",
      "None\n",
      "Michael Jackson\n",
      "None\n"
     ]
    }
   ],
   "source": [
    "# Lihat apa nilai yang dikembalikan oleh fungsi\n",
    "\n",
    "print(MJ())\n",
    "print(MJ1())"
   ]
  },
  {
   "cell_type": "markdown",
   "metadata": {
    "colab_type": "text",
    "id": "iGRN1aIdqcCH"
   },
   "source": [
    "Buat sebuah fungsi <code>con</code> that menggabungkan dua string dengan menggunakan operasi tambahan:"
   ]
  },
  {
   "cell_type": "code",
   "execution_count": 16,
   "metadata": {
    "colab": {},
    "colab_type": "code",
    "collapsed": true,
    "id": "L9UNxQKKqcCI"
   },
   "outputs": [],
   "source": [
    "# Definisikan fungsi untuk menggabungkan string\n",
    "\n",
    "def con(a, b):\n",
    "    return(a + b)"
   ]
  },
  {
   "cell_type": "code",
   "execution_count": 17,
   "metadata": {
    "colab": {},
    "colab_type": "code",
    "id": "5Fr-spLtqcCK"
   },
   "outputs": [
    {
     "data": {
      "text/plain": [
       "'This is'"
      ]
     },
     "execution_count": 17,
     "metadata": {},
     "output_type": "execute_result"
    }
   ],
   "source": [
    "# Tes pada fungsi con()\n",
    "\n",
    "con(\"This \", \"is\")"
   ]
  },
  {
   "cell_type": "markdown",
   "metadata": {
    "colab_type": "text",
    "id": "H2gkfY6vqcCM"
   },
   "source": [
    "<hr/>\n",
    "    <div class=\"alert alert-success alertsuccess\" style=\"margin-top: 20px\">\n",
    "        <h4> [Tip] Bagaimana Saya mempelajari lebih tentang pre-defined function pada Python?</h4>\n",
    "        <p>Kita akan mengenalkan variasi dari pre-defined functions. Ada banyak fungsi, jadi tidak mungkin kita mengajarkan semuanya dalam sekali kelas. Tapi jika Anda bersedia untuk belajar cepat, berikut ada referensi singkat untuk beberapa pre-defined functions: <a href=\"http://www.astro.up.pt/~sousasag/Python_For_Astronomers/Python_qr.pdf\">Reference</a></p>\n",
    "    </div>\n",
    "<hr/>"
   ]
  },
  {
   "cell_type": "markdown",
   "metadata": {
    "colab_type": "text",
    "id": "tt36W_alqcCN"
   },
   "source": [
    "<h3 id=\"simple\">Fungsi membuat segalanya sederhana</h3>"
   ]
  },
  {
   "cell_type": "markdown",
   "metadata": {
    "colab_type": "text",
    "id": "OEtXZYgkqcCO"
   },
   "source": [
    "Perhatikan dua baris kode  <b>Block 1</b> dan <b>Block 2</b>: prosedur untuk tiap barisnya memiliki kemiripan. Satu hal yang berbeda adalah nama variabel dan nilainya."
   ]
  },
  {
   "cell_type": "markdown",
   "metadata": {
    "colab_type": "text",
    "id": "fcpAMydbqcCO"
   },
   "source": [
    "<h4>Block 1:</h4>"
   ]
  },
  {
   "cell_type": "code",
   "execution_count": 18,
   "metadata": {
    "colab": {},
    "colab_type": "code",
    "id": "vBZFa01VqcCP"
   },
   "outputs": [
    {
     "data": {
      "text/plain": [
       "5"
      ]
     },
     "execution_count": 18,
     "metadata": {},
     "output_type": "execute_result"
    }
   ],
   "source": [
    "# block 1 kalkulasi a dan b \n",
    "\n",
    "a1 = 4\n",
    "b1 = 5\n",
    "c1 = a1 + b1 + 2 * a1 * b1 - 1\n",
    "if(c1 < 0):\n",
    "    c1 = 0 \n",
    "else:\n",
    "    c1 = 5\n",
    "c1   "
   ]
  },
  {
   "cell_type": "markdown",
   "metadata": {
    "colab_type": "text",
    "id": "sLBRxX-0qcCR"
   },
   "source": [
    "<h4>Block 2:</h4>"
   ]
  },
  {
   "cell_type": "code",
   "execution_count": 19,
   "metadata": {
    "colab": {},
    "colab_type": "code",
    "id": "djsvHtJ9qcCS"
   },
   "outputs": [
    {
     "data": {
      "text/plain": [
       "0"
      ]
     },
     "execution_count": 19,
     "metadata": {},
     "output_type": "execute_result"
    }
   ],
   "source": [
    "# block 2 kalkulasi a dan b\n",
    "\n",
    "a2 = 0\n",
    "b2 = 0\n",
    "c2 = a2 + b2 + 2 * a2 * b2 - 1\n",
    "if(c2 < 0):\n",
    "    c2 = 0 \n",
    "else:\n",
    "    c2 = 5\n",
    "c2   "
   ]
  },
  {
   "cell_type": "markdown",
   "metadata": {
    "colab_type": "text",
    "id": "EIVmdvP0qcCU"
   },
   "source": [
    "Kita dapat mengganti baris kode dengan sebuah fungsi. Sebuah fungsi menggabungkan banyak instruksi menjadi satu baris kode. Sekali fungsi didefinisikan, itu dapat digunakan secara berulang-ulang. Anda dapat meminta fungsi yang sama beberapa kali dalam program Anda. Anda dapat menghemat fungsi dan menggunakannya pada program yang lain atau gunakan fungsi lainnya. Baris kode pada <b>Block 1</b> dan <b>Block 2</b> dapat digantikan dengan fungsi berikut:"
   ]
  },
  {
   "cell_type": "code",
   "execution_count": 20,
   "metadata": {
    "colab": {},
    "colab_type": "code",
    "collapsed": true,
    "id": "1lq-L90lqcCV"
   },
   "outputs": [],
   "source": [
    "# Buat fungsi untuk mengkalkulasi diatas\n",
    "\n",
    "def Equation(a,b):\n",
    "    c = a + b + 2 * a * b - 1\n",
    "    if(c < 0):\n",
    "        c = 0 \n",
    "    else:\n",
    "        c = 5\n",
    "    return(c) "
   ]
  },
  {
   "cell_type": "markdown",
   "metadata": {
    "colab_type": "text",
    "id": "4BQqrmNYqcCX"
   },
   "source": [
    "Fungsi ini mengambil dua input, a dan b, kemudian menerapkan beberapa operasi untuk mengembalikan nilai c. Dengan sederhana kita definisikan fungsi, mengganti instruksi dengan fungsi, dan masukkan nilai yang baru dari <code>a1</code>, <code>b1</code> dan <code>a2</code>, <code>b2</code> sebagai input. Proses tersebut didemonstrasikan pada gambar:"
   ]
  },
  {
   "cell_type": "markdown",
   "metadata": {
    "colab_type": "text",
    "id": "1Np3HMfCqcCY"
   },
   "source": [
    "<img src=\"https://s3-api.us-geo.objectstorage.softlayer.net/cf-courses-data/CognitiveClass/PY0101EN/Chapter%203/Images/FuncsPros.gif\" width=\"850\" />"
   ]
  },
  {
   "cell_type": "markdown",
   "metadata": {
    "colab_type": "text",
    "id": "p3dGBpagqcCa"
   },
   "source": [
    "Kode **Blocks 1** dan **Block 2** sekarang dapat digantikan dengan**Block 3** dan **Block 4**."
   ]
  },
  {
   "cell_type": "markdown",
   "metadata": {
    "colab_type": "text",
    "id": "Z09wiExuqcCb"
   },
   "source": [
    "<h4>Block 3:</h4>"
   ]
  },
  {
   "cell_type": "code",
   "execution_count": 21,
   "metadata": {
    "colab": {},
    "colab_type": "code",
    "id": "vNe5DnMLqcCd"
   },
   "outputs": [
    {
     "data": {
      "text/plain": [
       "5"
      ]
     },
     "execution_count": 21,
     "metadata": {},
     "output_type": "execute_result"
    }
   ],
   "source": [
    "a1 = 4\n",
    "b1 = 5\n",
    "c1 = Equation(a1, b1)\n",
    "c1"
   ]
  },
  {
   "cell_type": "markdown",
   "metadata": {
    "colab_type": "text",
    "id": "twtLAhHbqcCf"
   },
   "source": [
    "<h4>Block 4:</h4>"
   ]
  },
  {
   "cell_type": "code",
   "execution_count": 22,
   "metadata": {
    "colab": {},
    "colab_type": "code",
    "id": "-qiZikuZqcCf"
   },
   "outputs": [
    {
     "data": {
      "text/plain": [
       "0"
      ]
     },
     "execution_count": 22,
     "metadata": {},
     "output_type": "execute_result"
    }
   ],
   "source": [
    "a2 = 0\n",
    "b2 = 0\n",
    "c2 = Equation(a2, b2)\n",
    "c2"
   ]
  },
  {
   "cell_type": "markdown",
   "metadata": {
    "colab_type": "text",
    "id": "umOIxeFjqcCh"
   },
   "source": [
    "<hr>"
   ]
  },
  {
   "cell_type": "markdown",
   "metadata": {
    "colab_type": "text",
    "id": "7h_pnMfAqcCi"
   },
   "source": [
    "<h2 id=\"pre\">Pre-defined functions</h2>"
   ]
  },
  {
   "cell_type": "markdown",
   "metadata": {
    "colab_type": "text",
    "id": "CtFBlnhpqcCj"
   },
   "source": [
    "Ada banyak pre-defined function pada Python, mari kita mulai dengan yang sederhana dahulu."
   ]
  },
  {
   "cell_type": "markdown",
   "metadata": {
    "colab_type": "text",
    "id": "8xFE20w4qcCk"
   },
   "source": [
    "Fungsi <code>print()</code>:"
   ]
  },
  {
   "cell_type": "code",
   "execution_count": 23,
   "metadata": {
    "colab": {},
    "colab_type": "code",
    "id": "bqjKzrZEqcCl"
   },
   "outputs": [
    {
     "name": "stdout",
     "output_type": "stream",
     "text": [
      "[10.0, 8.5, 9.5, 7.0, 7.0, 9.5, 9.0, 9.5]\n"
     ]
    }
   ],
   "source": [
    "# Fungsi print() bawaan\n",
    "\n",
    "album_ratings = [10.0, 8.5, 9.5, 7.0, 7.0, 9.5, 9.0, 9.5] \n",
    "print(album_ratings)"
   ]
  },
  {
   "cell_type": "markdown",
   "metadata": {
    "colab_type": "text",
    "id": "UMkN3RquqcCo"
   },
   "source": [
    "Fungsi <code>sum()</code> menjumlahkan semua elemen dalam list atau tuple"
   ]
  },
  {
   "cell_type": "code",
   "execution_count": 24,
   "metadata": {
    "colab": {},
    "colab_type": "code",
    "id": "6nmsO3Q6qcCq"
   },
   "outputs": [
    {
     "data": {
      "text/plain": [
       "70.0"
      ]
     },
     "execution_count": 24,
     "metadata": {},
     "output_type": "execute_result"
    }
   ],
   "source": [
    "# Gunakan sum() untuk menambahkan setiap elemen dalam list atau tuple\n",
    "\n",
    "sum(album_ratings)"
   ]
  },
  {
   "cell_type": "markdown",
   "metadata": {
    "colab_type": "text",
    "id": "ka3Y3W7EqcCz"
   },
   "source": [
    "Fungsi <code>len()</code> mengembalikan panjang dari lis atau tuple"
   ]
  },
  {
   "cell_type": "code",
   "execution_count": 25,
   "metadata": {
    "colab": {},
    "colab_type": "code",
    "id": "5gMXwgDGqcC0"
   },
   "outputs": [
    {
     "data": {
      "text/plain": [
       "8"
      ]
     },
     "execution_count": 25,
     "metadata": {},
     "output_type": "execute_result"
    }
   ],
   "source": [
    "# Tampilkan panjang dari list atau tuple\n",
    "\n",
    "len(album_ratings)"
   ]
  },
  {
   "cell_type": "markdown",
   "metadata": {
    "colab_type": "text",
    "id": "YAd9rZf7qcC3"
   },
   "source": [
    "<h2 id=\"if\">Menggunakan pernyataan <code>if</code>/<code>else</code> dan Loops dalam Fungsi</h2>"
   ]
  },
  {
   "cell_type": "markdown",
   "metadata": {
    "colab_type": "text",
    "id": "E4pTlyKNqcC4"
   },
   "source": [
    "Fungsi <code>return()</code> berguna terutama jika Anda memiliki beberapa pernyataan IF dalam fungsi, ketika Anda ingin output Andae menjadi tergantung (dependent) pada beberapa kondisi:"
   ]
  },
  {
   "cell_type": "code",
   "execution_count": 26,
   "metadata": {
    "colab": {},
    "colab_type": "code",
    "id": "ZaAoSDQ7qcC5"
   },
   "outputs": [
    {
     "name": "stdout",
     "output_type": "stream",
     "text": [
      "Michael Jackson Thriller 1980\n",
      "Oldie\n"
     ]
    }
   ],
   "source": [
    "# Contoh fungsi\n",
    "\n",
    "def type_of_album(artist, album, year_released):\n",
    "    \n",
    "    print(artist, album, year_released)\n",
    "    if year_released > 1980:\n",
    "        return \"Modern\"\n",
    "    else:\n",
    "        return \"Oldie\"\n",
    "    \n",
    "x = type_of_album(\"Michael Jackson\", \"Thriller\", 1980)\n",
    "print(x)"
   ]
  },
  {
   "cell_type": "markdown",
   "metadata": {
    "colab_type": "text",
    "id": "e7K63JMhqcC6"
   },
   "source": [
    "Kita dapat menggunakan perulangan dalam sebuah fungsi. Contohnya, kita bisa <code>print</code> tiap elemen dalam list:"
   ]
  },
  {
   "cell_type": "code",
   "execution_count": 27,
   "metadata": {
    "colab": {},
    "colab_type": "code",
    "collapsed": true,
    "id": "4bJu395HqcC7"
   },
   "outputs": [],
   "source": [
    "# Print list menggunakan perulangan\n",
    "\n",
    "def PrintList(the_list):\n",
    "    for element in the_list:\n",
    "        print(element)"
   ]
  },
  {
   "cell_type": "code",
   "execution_count": 28,
   "metadata": {
    "colab": {},
    "colab_type": "code",
    "id": "u0suUXIuqcC-"
   },
   "outputs": [
    {
     "name": "stdout",
     "output_type": "stream",
     "text": [
      "1\n",
      "1\n",
      "the man\n",
      "abc\n"
     ]
    }
   ],
   "source": [
    "# Menerapkan fungsi printlist\n",
    "\n",
    "PrintList(['1', 1, 'the man', \"abc\"])"
   ]
  },
  {
   "cell_type": "markdown",
   "metadata": {
    "colab_type": "text",
    "id": "dHy_0ThvqcDE"
   },
   "source": [
    "<hr>"
   ]
  },
  {
   "cell_type": "markdown",
   "metadata": {
    "colab_type": "text",
    "id": "miAGcF9MqcDE"
   },
   "source": [
    "<h2 id=\"default\">Mengatur nilai argumen standar pada fungsi Anda</h2>"
   ]
  },
  {
   "cell_type": "markdown",
   "metadata": {
    "colab_type": "text",
    "id": "xucOl3YIqcDF"
   },
   "source": [
    "Anda dapat mengatur argumen default pada fungsi Anda. Contohnya, pada fungsi <code>isGoodRating()</code>, bagaimana jika kita ingin membuat threshold untuk apa yang kita tentukan menjadi good rating ? Mungkin secara default, kita memiliki rating defaultnya adalah 4:"
   ]
  },
  {
   "cell_type": "code",
   "execution_count": 29,
   "metadata": {
    "colab": {},
    "colab_type": "code",
    "collapsed": true,
    "id": "A0HS3RScqcDG"
   },
   "outputs": [],
   "source": [
    "# Contoh untuk mengatur parameter dengan nilai default\n",
    "\n",
    "def isGoodRating(rating=4): \n",
    "    if(rating < 7):\n",
    "        print(\"this album sucks it's rating is\",rating)\n",
    "        \n",
    "    else:\n",
    "        print(\"this album is good its rating is\",rating)\n"
   ]
  },
  {
   "cell_type": "code",
   "execution_count": 30,
   "metadata": {
    "colab": {},
    "colab_type": "code",
    "id": "TFhGy2cnqcDI"
   },
   "outputs": [
    {
     "name": "stdout",
     "output_type": "stream",
     "text": [
      "this album sucks it's rating is 4\n",
      "this album is good its rating is 10\n"
     ]
    }
   ],
   "source": [
    "# Uji nilainya dengan nilai default dan dengan nilai input\n",
    "\n",
    "isGoodRating()\n",
    "isGoodRating(10)"
   ]
  },
  {
   "cell_type": "markdown",
   "metadata": {
    "colab_type": "text",
    "id": "hnxEYealqcDK"
   },
   "source": [
    "<hr>"
   ]
  },
  {
   "cell_type": "markdown",
   "metadata": {
    "colab_type": "text",
    "id": "tEde2kxbqcDK"
   },
   "source": [
    "<h2 id=\"global\">Variabel Global</h2>"
   ]
  },
  {
   "cell_type": "markdown",
   "metadata": {
    "colab_type": "text",
    "id": "ix07-KZgqcDL"
   },
   "source": [
    "Sejauh ini kita telah membuat variabel dalam fungsi, tapi kita belum mendiskusikan variabel diluar fungsi. Ini disebut dengan variabel global.\n",
    "<br>\n",
    "Let's try to see what <code>printer1</code> returns:"
   ]
  },
  {
   "cell_type": "code",
   "execution_count": 31,
   "metadata": {
    "colab": {
     "base_uri": "https://localhost:8080/",
     "height": 219
    },
    "colab_type": "code",
    "executionInfo": {
     "elapsed": 780,
     "status": "error",
     "timestamp": 1562159044431,
     "user": {
      "displayName": "Golobok go",
      "photoUrl": "",
      "userId": "03877817960545856005"
     },
     "user_tz": -420
    },
    "id": "6Je_B7_XqcDL",
    "outputId": "5b977139-8c89-4d93-9bd0-997ba20ae4c7"
   },
   "outputs": [
    {
     "name": "stdout",
     "output_type": "stream",
     "text": [
      "Michael Jackson is an artist\n"
     ]
    },
    {
     "ename": "NameError",
     "evalue": "name 'internal_var' is not defined",
     "output_type": "error",
     "traceback": [
      "\u001b[1;31m---------------------------------------------------------------------------\u001b[0m",
      "\u001b[1;31mNameError\u001b[0m                                 Traceback (most recent call last)",
      "\u001b[1;32m<ipython-input-31-dd8d4a07b7e2>\u001b[0m in \u001b[0;36m<module>\u001b[1;34m()\u001b[0m\n\u001b[0;32m      7\u001b[0m \u001b[1;33m\u001b[0m\u001b[0m\n\u001b[0;32m      8\u001b[0m \u001b[0mprinter1\u001b[0m\u001b[1;33m(\u001b[0m\u001b[0martist\u001b[0m\u001b[1;33m)\u001b[0m\u001b[1;33m\u001b[0m\u001b[0m\n\u001b[1;32m----> 9\u001b[1;33m \u001b[0mprint\u001b[0m\u001b[1;33m(\u001b[0m\u001b[0minternal_var\u001b[0m\u001b[1;33m)\u001b[0m\u001b[1;33m\u001b[0m\u001b[0m\n\u001b[0m",
      "\u001b[1;31mNameError\u001b[0m: name 'internal_var' is not defined"
     ]
    }
   ],
   "source": [
    "# Contoh dari variabel global\n",
    "\n",
    "artist = \"Michael Jackson\"\n",
    "def printer1(artist):\n",
    "    internal_var = artist\n",
    "    print(artist, \"is an artist\")\n",
    "    \n",
    "printer1(artist)\n",
    "print(internal_var)"
   ]
  },
  {
   "cell_type": "markdown",
   "metadata": {
    "colab_type": "text",
    "id": "YSRZrLYXqcDN"
   },
   "source": [
    "Jika kita lalukan perintah print pada <code>internal_var</code>, kita mendapatkan error."
   ]
  },
  {
   "cell_type": "markdown",
   "metadata": {
    "colab_type": "text",
    "id": "pMuM2SUyqcDO"
   },
   "source": [
    "<b>Kita dapatkan NameError:  <code>name 'internal_var' is not defined</code>. Mengapa?</b>  \n",
    "\n",
    "Itu dikarenakan semua variabel yang kita buat dalam fungsi adalah **variabel lokal**, yang artinya variabel tersebut tidak ada diluar fungsi.\n",
    "\n",
    "Tapi ada cara untuk membuat **variabel global** dari dalam fungsi seperti berikut:"
   ]
  },
  {
   "cell_type": "code",
   "execution_count": null,
   "metadata": {
    "colab": {},
    "colab_type": "code",
    "collapsed": true,
    "id": "t7NE6hgoqcDP"
   },
   "outputs": [],
   "source": [
    "artist = \"Michael Jackson\"\n",
    "\n",
    "def printer(artist):\n",
    "    global internal_var \n",
    "    internal_var= \"Whitney Houston\"\n",
    "    print(artist,\"is an artist\")\n",
    "\n",
    "printer(artist) \n",
    "printer(internal_var)"
   ]
  },
  {
   "cell_type": "markdown",
   "metadata": {
    "colab_type": "text",
    "id": "nqDpk5MmqcDR"
   },
   "source": [
    "<h2 id=\"scope\">Ruang Lingkup Variabel</h2>"
   ]
  },
  {
   "cell_type": "markdown",
   "metadata": {
    "colab_type": "text",
    "id": "kZHxdnLGqcDT"
   },
   "source": [
    "Ruang lingkup dari variabel adalah bagian dari program dimana variabel dapat diakses. Variabel dideklarasikan diluar fungsi, seperti variabel <code>myFavouriteBand</code> pada kode yang ditunjukkan disini adalah dapat diakses dari mana saja didalam program. Hasilnya, beberapa variabel dikatakan memiliki ruang lingkup global, dan diketahui sebagai variabel global.<code>myFavouriteBand</code> adalah variabel global, jadi bisa diakses dari dalam fungsi <code>getBandRating</code>, dan kita dapat gunakan itu untuk menentukan rating dari band. Kita juga dapat gunakan itu diluar fungsi, seperti ketika kita lakukan print fungsi untuk menampilkannya:"
   ]
  },
  {
   "cell_type": "code",
   "execution_count": null,
   "metadata": {
    "colab": {},
    "colab_type": "code",
    "collapsed": true,
    "id": "VMvD0nsNqcDU"
   },
   "outputs": [],
   "source": [
    "# Contoh dari variabel global\n",
    "\n",
    "myFavouriteBand = \"AC/DC\"\n",
    "\n",
    "def getBandRating(bandname):\n",
    "    if bandname == myFavouriteBand:\n",
    "        return 10.0\n",
    "    else:\n",
    "        return 0.0\n",
    "\n",
    "print(\"AC/DC's rating is:\", getBandRating(\"AC/DC\"))\n",
    "print(\"Deep Purple's rating is:\",getBandRating(\"Deep Purple\"))\n",
    "print(\"My favourite band is:\", myFavouriteBand)"
   ]
  },
  {
   "cell_type": "markdown",
   "metadata": {
    "colab_type": "text",
    "id": "Qj_VpdpAqcDX"
   },
   "source": [
    " Lihat versi dari kode yang telah dimodifikasi. Sekarang variabel <code>myFavouriteBand</code> didefinisikan dalam fungsi <code>getBandRating</code>. Sebuah variabel yang didefinisikan dalam fungsi dikatakan  variabel lokal dari fungsi tersebut. Artinya variabel tersebut hanya bisa diakses dari dalam fungsi dimana itu didefinisikan. Fungsi <code>getBandRating</code>  akan tetap bekerja, karena  <code>myFavouriteBand</code> tetap didefinisikan dalam fungsi. Namun, kita tidak bisa lagi menampilkan <code>myFavouriteBand</code> diluar fungsi, karena itu adalah variabel lokal dari fungsi  <code>getBandRating</code>; ituhanya didefinisikan dalam fungsi <code>getBandRating</code> :"
   ]
  },
  {
   "cell_type": "code",
   "execution_count": null,
   "metadata": {
    "colab": {},
    "colab_type": "code",
    "collapsed": true,
    "id": "VSiKxg-lqcDY"
   },
   "outputs": [],
   "source": [
    "# Contoh variabel lokal\n",
    "\n",
    "def getBandRating(bandname):\n",
    "    myFavouriteBand = \"AC/DC\"\n",
    "    if bandname == myFavouriteBand:\n",
    "        return 10.0\n",
    "    else:\n",
    "        return 0.0\n",
    "\n",
    "print(\"AC/DC's rating is: \", getBandRating(\"AC/DC\"))\n",
    "print(\"Deep Purple's rating is: \", getBandRating(\"Deep Purple\"))\n",
    "print(\"My favourite band is\", myFavouriteBand)"
   ]
  },
  {
   "cell_type": "markdown",
   "metadata": {
    "colab_type": "text",
    "id": "q-8TpAiwqcDb"
   },
   "source": [
    " Akhirnya, lihat pada contoh. Kita sekarang memiliki dua definisi variabel <code>myFavouriteBand</code>. Pertama adalah global, dan kedua adalah variabel lokal didalam fungsi  <code>getBandRating</code>. Didalam fungsi <code>getBandRating</code>, variabel lokal memiliiki hak lebih tinggi. **Deep Purple** akan menerima rating 10.0 ketika melewati fungsi <code>getBandRating</code>. Namun, diluar dari fungsi <code>getBandRating</code>, variabel lokal <code>getBandRating</code> tidak didefinisikan, jadi variabel <code>myFavouriteBand</code> yang di print adalah variabel global, dimana memiliki nilai **AC/DC**."
   ]
  },
  {
   "cell_type": "code",
   "execution_count": null,
   "metadata": {
    "colab": {},
    "colab_type": "code",
    "collapsed": true,
    "id": "6J_Fu3qUqcDb"
   },
   "outputs": [],
   "source": [
    "# Contoh dari variabel global dan lokal dengan nama yang sama\n",
    "\n",
    "myFavouriteBand = \"AC/DC\"\n",
    "\n",
    "def getBandRating(bandname):\n",
    "    myFavouriteBand = \"Deep Purple\"\n",
    "    if bandname == myFavouriteBand:\n",
    "        return 10.0\n",
    "    else:\n",
    "        return 0.0\n",
    "\n",
    "print(\"AC/DC's rating is:\",getBandRating(\"AC/DC\"))\n",
    "print(\"Deep Purple's rating is: \",getBandRating(\"Deep Purple\"))\n",
    "print(\"My favourite band is:\",myFavouriteBand)"
   ]
  },
  {
   "cell_type": "markdown",
   "metadata": {
    "colab_type": "text",
    "id": "FZjVwSVDqcDd"
   },
   "source": [
    "<h2>Kuis mengenai Functions</h2>"
   ]
  },
  {
   "cell_type": "markdown",
   "metadata": {
    "colab_type": "text",
    "id": "5955CMpQqcDe"
   },
   "source": [
    "Tampilkan fungsi yang membagi input pertama dengan input kedua:"
   ]
  },
  {
   "cell_type": "code",
   "execution_count": null,
   "metadata": {
    "colab": {},
    "colab_type": "code",
    "collapsed": true,
    "id": "iLEBU9OtqcDe"
   },
   "outputs": [],
   "source": [
    "# Tulis kode anda dibawah ini dan tekan Shift+Enter untuk melakukan eksekusi"
   ]
  },
  {
   "cell_type": "markdown",
   "metadata": {
    "colab_type": "text",
    "id": "SaholhLsqcDh"
   },
   "source": [
    "klik dua kali __disini__ untuk melihat jawabannya.\n",
    "\n",
    "<!-- \n",
    "def div(a, b):\n",
    "    return(a/b)\n",
    "-->"
   ]
  },
  {
   "cell_type": "markdown",
   "metadata": {
    "colab_type": "text",
    "id": "ucaAYRFWqcDi"
   },
   "source": [
    "<hr>"
   ]
  },
  {
   "cell_type": "markdown",
   "metadata": {
    "colab_type": "text",
    "id": "R-AwEP9XqcDi"
   },
   "source": [
    "Gunakan fungsi  <code>con</code> untuk pertanyaan berikut."
   ]
  },
  {
   "cell_type": "code",
   "execution_count": null,
   "metadata": {
    "colab": {},
    "colab_type": "code",
    "collapsed": true,
    "id": "Sp3IwvVtqcDj"
   },
   "outputs": [],
   "source": [
    "# Gunakan fungsi con untuk pertanyaan berikut\n",
    "\n",
    "def con(a, b):\n",
    "    return(a + b)"
   ]
  },
  {
   "cell_type": "markdown",
   "metadata": {
    "colab_type": "text",
    "id": "7CYyeccyqcDl"
   },
   "source": [
    "Bisakah fungsi <code>con</code> kita definisikan sebelum digunakan untuk menambahkan integer atau string?"
   ]
  },
  {
   "cell_type": "code",
   "execution_count": null,
   "metadata": {
    "colab": {},
    "colab_type": "code",
    "collapsed": true,
    "id": "nQREAiQCqcDm"
   },
   "outputs": [],
   "source": [
    "# Tulis kode anda dibawah ini dan tekan Shift+Enter untuk melakukan eksekusi"
   ]
  },
  {
   "cell_type": "markdown",
   "metadata": {
    "colab_type": "text",
    "id": "QnGlEvehqcDp"
   },
   "source": [
    "klik dua kali __disini__ untuk melihat jawabannya.\n",
    "\n",
    "<!-- \n",
    "yes, for example: \n",
    "con(2, 2)\n",
    " -->"
   ]
  },
  {
   "cell_type": "markdown",
   "metadata": {
    "colab_type": "text",
    "id": "PW5kVDDTqcDq"
   },
   "source": [
    "<hr>"
   ]
  },
  {
   "cell_type": "markdown",
   "metadata": {
    "colab_type": "text",
    "id": "tBcTBCriqcDr"
   },
   "source": [
    "Bisakah fungsi <code>con</code> kita definisikan sebelum digunakan untuk menggabungkan sebuah list atau tuple ?"
   ]
  },
  {
   "cell_type": "code",
   "execution_count": null,
   "metadata": {
    "colab": {},
    "colab_type": "code",
    "collapsed": true,
    "id": "dES09egvqcDs"
   },
   "outputs": [],
   "source": [
    "# Tulis kode anda dibawah ini dan tekan Shift+Enter untuk melakukan eksekusi"
   ]
  },
  {
   "cell_type": "markdown",
   "metadata": {
    "colab_type": "text",
    "id": "IqisXwWaqcDw"
   },
   "source": [
    "klik dua kali __disini__ untuk melihat jawabannya.\n",
    "\n",
    "<!-- \n",
    "yes,for example: \n",
    "con(['a', 1], ['b', 1])\n",
    "-->"
   ]
  },
  {
   "cell_type": "markdown",
   "metadata": {
    "colab_type": "text",
    "id": "q2M_69zTqcDy"
   },
   "source": [
    "<h3>About the Authors:</h3>  \n",
    "<p><a href=\"https://www.linkedin.com/in/joseph-s-50398b136/\" target=\"_blank\">Joseph Santarcangelo</a> is a Data Scientist at IBM, and holds a PhD in Electrical Engineering. His research focused on using Machine Learning, Signal Processing, and Computer Vision to determine how videos impact human cognition. Joseph has been working for IBM since he completed his PhD.</p>"
   ]
  },
  {
   "cell_type": "markdown",
   "metadata": {
    "colab_type": "text",
    "id": "YPkmqAHiqcD0"
   },
   "source": [
    "Other contributors: <a href=\"www.linkedin.com/in/jiahui-mavis-zhou-a4537814a\">Mavis Zhou</a>, <a href=\"https://www.linkedin.com/in/reevejamesd/\">James Reeve</a>"
   ]
  },
  {
   "cell_type": "markdown",
   "metadata": {
    "colab_type": "text",
    "id": "kHsycnhyqcD2"
   },
   "source": [
    "<hr>"
   ]
  },
  {
   "cell_type": "markdown",
   "metadata": {
    "colab_type": "text",
    "id": "x1YkQvMEqcD2"
   },
   "source": [
    "<p>Copyright &copy; 2018 IBM Developer Skills Network. This notebook and its source code are released under the terms of the <a href=\"https://cognitiveclass.ai/mit-license/\">MIT License</a>.</p>"
   ]
  }
 ],
 "metadata": {
  "colab": {
   "collapsed_sections": [],
   "name": "Lab-Sesi9-3.ipynb",
   "provenance": [],
   "version": "0.3.2"
  },
  "kernelspec": {
   "display_name": "Python 3",
   "language": "python",
   "name": "python3"
  },
  "language_info": {
   "codemirror_mode": {
    "name": "ipython",
    "version": 3
   },
   "file_extension": ".py",
   "mimetype": "text/x-python",
   "name": "python",
   "nbconvert_exporter": "python",
   "pygments_lexer": "ipython3",
   "version": "3.6.3"
  }
 },
 "nbformat": 4,
 "nbformat_minor": 1
}
