{
 "cells": [
  {
   "cell_type": "markdown",
   "metadata": {
    "colab_type": "text",
    "id": "susK3HmhxTe6"
   },
   "source": [
    "![title](img/header.png)"
   ]
  },
  {
   "cell_type": "markdown",
   "metadata": {
    "colab_type": "text",
    "id": "QVPIPdhCxTe7"
   },
   "source": [
    "<h1>Kondisi pada Python</h1>"
   ]
  },
  {
   "cell_type": "markdown",
   "metadata": {
    "colab_type": "text",
    "id": "Etm7lfTWxTe8"
   },
   "source": [
    "<p><strong>Selamat Datang!</strong> Notebook ini akan mengajarkan Anda tentang condition (kondisi) pada bahasa pemrograman Python. Akhir dari notebook ini, Anda akan tahu bagaimana cara menggunakan pernyataan kondisi di Python, termasuk operator dan percabangan</p>"
   ]
  },
  {
   "cell_type": "markdown",
   "metadata": {
    "colab_type": "text",
    "id": "UJqVVHHzxTe9"
   },
   "source": [
    "<h2>Daftar Isi</h2>\n",
    "<div class=\"alert alert-block alert-info\" style=\"margin-top: 20px\">\n",
    "    <ul>\n",
    "        <li>\n",
    "            <a href=\"#cond\">Pernyataan Kondisi</a>\n",
    "            <ul>\n",
    "                <li><a href=\"comp\">Operator Perbandingan</a></li>\n",
    "                <li><a href=\"branch\">Percabangan</a></li>\n",
    "                <li><a href=\"logic\">Operator Logika</a></li>\n",
    "            </ul>\n",
    "        </li>\n",
    "        <li>\n",
    "            <a href=\"#quiz\">Kuis Pernyataan Condition</a>\n",
    "        </li>\n",
    "    </ul>\n",
    "    <p>\n",
    "        Prakiraan waktu yang dibutuhkan: <strong>20 menit</strong>\n",
    "    </p>\n",
    "</div>\n",
    "\n",
    "<hr>"
   ]
  },
  {
   "cell_type": "markdown",
   "metadata": {
    "colab_type": "text",
    "id": "lrq_VxolxTe-"
   },
   "source": [
    "<h2 id=\"cond\">Pernyataan Kondisi</h2>"
   ]
  },
  {
   "cell_type": "markdown",
   "metadata": {
    "colab_type": "text",
    "id": "s4K4CB9AxTe_"
   },
   "source": [
    "<h3 id=\"comp\">Operator Perbandingan</h3>"
   ]
  },
  {
   "cell_type": "markdown",
   "metadata": {
    "colab_type": "text",
    "id": "K62-7F48xTfA"
   },
   "source": [
    "Operator perbandingan membandingkan beberapa nilau ata operator dan, berdasarkan pada kondisi, akan menghasilkan nilai Boolean. Ketika membandingkan dua nilai, Anda dapat menggunakan operator berikut:\n",
    "\n",
    "<ul>\n",
    "    <li>sama dengan: <b>==</b></li>\n",
    "    <li>tidak sama dengan: <b>!=</b></li>\n",
    "    <li>lebih besar dari: <b>></b></li>\n",
    "    <li>kurang dari: <b>&lt;</b></li>\n",
    "    <li>lebih besar atau sama dengan: <b>>=</b></li>\n",
    "    <li>kurang dari atau sama dengan: <b>&lt;=</b></li>\n",
    "</ul>"
   ]
  },
  {
   "cell_type": "markdown",
   "metadata": {
    "colab_type": "text",
    "id": "_aPy2zcYxTfA"
   },
   "source": [
    "Tentukan <code>a</code> dengan nilai 5. Gunakan operator sama dengan, dengan dua tanda sama dengan (**==**) untuk menentukan jika dua nilai tersebut adalah sama. Kasus berikut membandingkan variabel <code>a</code> dengan 6"
   ]
  },
  {
   "cell_type": "code",
   "execution_count": 1,
   "metadata": {
    "colab": {},
    "colab_type": "code",
    "id": "cYjEU4CTxTfB"
   },
   "outputs": [
    {
     "data": {
      "text/plain": [
       "False"
      ]
     },
     "execution_count": 1,
     "metadata": {},
     "output_type": "execute_result"
    }
   ],
   "source": [
    "# Condition Equal\n",
    "\n",
    "a = 5\n",
    "a == 6"
   ]
  },
  {
   "cell_type": "markdown",
   "metadata": {
    "colab_type": "text",
    "id": "tuJBXYtxxTfF"
   },
   "source": [
    "Hasilnya adalah **False**, karena 5 tidak sama dengan 6."
   ]
  },
  {
   "cell_type": "markdown",
   "metadata": {
    "colab_type": "text",
    "id": "08cKlbj6xTfG"
   },
   "source": [
    "Perhatikan operator pembanding sama dengan <code>i > 5</code>. jika nilai dari sisi kiri operator, pada kasus ini adalah variabel **i**, adalah lebih besar dari sisi kanan operator, pada kasus ini adalah 5, kemudian pernyataannya adalah **True**. Jika tidak, pernyataannya adalah **False**. Jika **i** sama dengan 6, karena 6 lebih besar dari 5, hasilnya adalah **True**. "
   ]
  },
  {
   "cell_type": "code",
   "execution_count": 2,
   "metadata": {
    "colab": {},
    "colab_type": "code",
    "id": "fZzPtzVXxTfH"
   },
   "outputs": [
    {
     "data": {
      "text/plain": [
       "True"
      ]
     },
     "execution_count": 2,
     "metadata": {},
     "output_type": "execute_result"
    }
   ],
   "source": [
    "# Lebih besar dari\n",
    "\n",
    "i = 6\n",
    "i > 5"
   ]
  },
  {
   "cell_type": "markdown",
   "metadata": {
    "colab_type": "text",
    "id": "WNUbBIZlxTfL"
   },
   "source": [
    "Buat <code> i = 2</code>. Pernyataannya adalah False, karena 2 tidak lebih besar dari 5:"
   ]
  },
  {
   "cell_type": "code",
   "execution_count": 3,
   "metadata": {
    "colab": {},
    "colab_type": "code",
    "id": "7QdT2KPkxTfM"
   },
   "outputs": [
    {
     "data": {
      "text/plain": [
       "False"
      ]
     },
     "execution_count": 3,
     "metadata": {},
     "output_type": "execute_result"
    }
   ],
   "source": [
    "# Lebih besar dari\n",
    "\n",
    "i = 2\n",
    "i > 5"
   ]
  },
  {
   "cell_type": "markdown",
   "metadata": {
    "colab_type": "text",
    "id": "f9xMPvB1xTfQ"
   },
   "source": [
    " Mari tampilkan beberapa nilai untuk <code>i</code> pada gambar. Atur nilai lebih besar dari 5 pada hijau dan lainnya pada merah. Area hijau merepresentasikan dimana kondisi adalah **True**, sisi merah dimana pernyataannya adalah **False**. Jika nilai dari <code>i</code> adalah 2, kita dapati **False** karena 2 berada pada area merah. Jika nilai dari <code>i</code> adalah 6, kita dapati **True** karena kondisinya berada pada area hijau."
   ]
  },
  {
   "cell_type": "markdown",
   "metadata": {
    "colab_type": "text",
    "id": "ANwiZxjXxTfR"
   },
   "source": [
    "<img src=\"https://s3-api.us-geo.objectstorage.softlayer.net/cf-courses-data/CognitiveClass/PY0101EN/Chapter%203/Images/CondsGreater.gif\" width=\"650\" />"
   ]
  },
  {
   "cell_type": "markdown",
   "metadata": {
    "colab_type": "text",
    "id": "dy4x5djrxTfS"
   },
   "source": [
    "Tes ketidaksamaan menggunakan tanda seru diawal tanda sama dengan, jika dua operan tidak sama dengan kemudian kondisi menjadi **True**. Sebagai contohm kondisi berikut akan menghasilkan **True** karena nilai dari <code>i</code> tidak sama dengan 6:"
   ]
  },
  {
   "cell_type": "code",
   "execution_count": 4,
   "metadata": {
    "colab": {},
    "colab_type": "code",
    "id": "5LeJ99lVxTfU"
   },
   "outputs": [
    {
     "data": {
      "text/plain": [
       "True"
      ]
     },
     "execution_count": 4,
     "metadata": {},
     "output_type": "execute_result"
    }
   ],
   "source": [
    "# Tanda tidak sama dengan\n",
    "\n",
    "i = 2\n",
    "i != 6"
   ]
  },
  {
   "cell_type": "markdown",
   "metadata": {
    "colab_type": "text",
    "id": "bGPYVamBxTfY"
   },
   "source": [
    "Ketika <code>i</code> sama dengan 6, ekspresi tidak sama dengan menghasilkan **False**"
   ]
  },
  {
   "cell_type": "code",
   "execution_count": 5,
   "metadata": {
    "colab": {},
    "colab_type": "code",
    "id": "lvxvwyT2xTfZ"
   },
   "outputs": [
    {
     "data": {
      "text/plain": [
       "False"
      ]
     },
     "execution_count": 5,
     "metadata": {},
     "output_type": "execute_result"
    }
   ],
   "source": [
    "# Tanda tidak sama dengan\n",
    "\n",
    "i = 6\n",
    "i != 6"
   ]
  },
  {
   "cell_type": "markdown",
   "metadata": {
    "colab_type": "text",
    "id": "g06mUJFSxTfe"
   },
   "source": [
    "Lihat baris angka dibawah. Ketika kondisinya adalah **True** sesuai dengan angka ditandai dengan hijau dan dimana kondisinya adalah **False** sesuai dengan angka yang ditandai dengan merah. Jika kita atur <code>i</code> sama dengan 2, hasilnya adalah true pada area hijau. Jika kita atur <code>i</code> sama dengan 6, kita dapatkan **False** karena kondisinya pada area merah."
   ]
  },
  {
   "cell_type": "markdown",
   "metadata": {
    "colab_type": "text",
    "id": "tVR-dWBWxTfg"
   },
   "source": [
    "<img src=\"https://s3-api.us-geo.objectstorage.softlayer.net/cf-courses-data/CognitiveClass/PY0101EN/Chapter%203/Images/CondsIneq.gif\" width=\"650\" />"
   ]
  },
  {
   "cell_type": "markdown",
   "metadata": {
    "colab_type": "text",
    "id": "PP5Mv6WjxTfi"
   },
   "source": [
    " Kita dapat menerapkan metode yang sama pada string. Contohnya, gunakan operator sama dengan pada string yang berbeda. Karena string tidak sama, kita dapatkan **False**"
   ]
  },
  {
   "cell_type": "code",
   "execution_count": 6,
   "metadata": {
    "colab": {},
    "colab_type": "code",
    "id": "NQo7TQAhxTfk"
   },
   "outputs": [
    {
     "data": {
      "text/plain": [
       "False"
      ]
     },
     "execution_count": 6,
     "metadata": {},
     "output_type": "execute_result"
    }
   ],
   "source": [
    "# Gunakan tanda sama dengan untuk membandingkan string\n",
    "\n",
    "\"ACDC\" == \"Michael Jackson\""
   ]
  },
  {
   "cell_type": "markdown",
   "metadata": {
    "colab_type": "text",
    "id": "XwVm4VDCxTfp"
   },
   "source": [
    "  Jika kita gunakan operator tidak sama dengan, hasilnya akan menjadi **True** karena kedua string tidak sama."
   ]
  },
  {
   "cell_type": "code",
   "execution_count": 7,
   "metadata": {
    "colab": {},
    "colab_type": "code",
    "id": "kcDUdBMCxTfq"
   },
   "outputs": [
    {
     "data": {
      "text/plain": [
       "True"
      ]
     },
     "execution_count": 7,
     "metadata": {},
     "output_type": "execute_result"
    }
   ],
   "source": [
    "# Gunakan tanda tidak sama dengan untuk membandingkan string\n",
    "\n",
    "\"ACDC\" != \"Michael Jackson\""
   ]
  },
  {
   "cell_type": "markdown",
   "metadata": {
    "colab_type": "text",
    "id": "EuTDVNKpxTfv"
   },
   "source": [
    "Operator ketidaksamaan juga digunakan untuk membandingkan kalimat/kata/simbol berdasarkan ASCII. Nilai desimal ditunjukkan pada tabel berikut yang merepresentasikan urutan dari karakter."
   ]
  },
  {
   "cell_type": "markdown",
   "metadata": {
    "colab_type": "text",
    "id": "2asp0j09xTfw"
   },
   "source": [
    "Sebagai contoh, kode ASCII untuk **!** adalah 21, kode ASCII untuk **+** adalah 43. Dengan demikian **+** lebih besar dari **!** karena 43 lebih besar dari 21."
   ]
  },
  {
   "cell_type": "markdown",
   "metadata": {
    "colab_type": "text",
    "id": "zXU4Apk2xTfy"
   },
   "source": [
    "Demikian pula, nilai ASCII untuk **A** adalah 101, dan nilai untuk **B** adalah 102 kemudian :"
   ]
  },
  {
   "cell_type": "code",
   "execution_count": 8,
   "metadata": {
    "colab": {},
    "colab_type": "code",
    "id": "tMhvoGp8xTfz"
   },
   "outputs": [
    {
     "data": {
      "text/plain": [
       "True"
      ]
     },
     "execution_count": 8,
     "metadata": {},
     "output_type": "execute_result"
    }
   ],
   "source": [
    "# Membandingkan karakter\n",
    "\n",
    "'B' > 'A'"
   ]
  },
  {
   "cell_type": "markdown",
   "metadata": {
    "colab_type": "text",
    "id": "E6sMrQS-xTf2"
   },
   "source": [
    "\n",
    "  Ketika ada kata yang terdiri dari lebih dari 1 huruf, huruf pertama yang akan diperhitungkan terlebih dahulu:"
   ]
  },
  {
   "cell_type": "code",
   "execution_count": 9,
   "metadata": {
    "colab": {},
    "colab_type": "code",
    "id": "VBts92iHxTf2"
   },
   "outputs": [
    {
     "data": {
      "text/plain": [
       "True"
      ]
     },
     "execution_count": 9,
     "metadata": {},
     "output_type": "execute_result"
    }
   ],
   "source": [
    "# Membandingkan karakter\n",
    "\n",
    "'BA' > 'AB'"
   ]
  },
  {
   "cell_type": "markdown",
   "metadata": {
    "colab_type": "text",
    "id": "FH7b2TiVxTf5"
   },
   "source": [
    "**Note**: Kata dengan huruf besar memiliki perbedaan kode ASCII dibandingkan dengan kata denan huruf kecil, yang berarti perbandingan antara kata pada python adalah case-sensitive."
   ]
  },
  {
   "cell_type": "markdown",
   "metadata": {
    "colab_type": "text",
    "id": "3xnWvo_qxTf5"
   },
   "source": [
    "<h3 id=\"branch\">Branching (Percabangan)</h3>"
   ]
  },
  {
   "cell_type": "markdown",
   "metadata": {
    "colab_type": "text",
    "id": "BHMV7xTWxTf6"
   },
   "source": [
    "Percabangan memperbolehkan kita untuk menjalankan perintah yang berbeda untuk input yang berbeda. Ini sangat membantu dalam berpikir **if statement** (pernyataan if) sebagai ruang yang terkunci, jika pernyataan **True** kita dapat masuk ke dalam ruangan dan program Anda akan menjalankan tugas yang telah didefinisikan, tapi jika pernyataannya adalah **False** program akan menolak tugas Anda. \n",
    "\n"
   ]
  },
  {
   "cell_type": "markdown",
   "metadata": {
    "colab_type": "text",
    "id": "1uHeoz0ExTf7"
   },
   "source": [
    "Sebagai contoh, perhatikan persegi biru merepresentasikan sebuah konser ACDC. Jika individu-individu berumur lebih dari 18, mereka dapat memasuki konser ACDC. Jika mereka 18 atau lebih muda dari itu, mereka tidak dapat memasuki konser.\n",
    "\n",
    "Gunakan pernyataan kondisi yang telah dipelajari sebelumnya sebagai kondisi yang perlu di cek dalam **if statement**. Sintaknya sederhana: <code> if <i>condition statement</i> :</code>, dimana mengandung kata <code>if</code>, sembarang pernyataan kondisi, dan tanda titik dua di akhir. Tulislah kode Anda pada baris baru di bawah titik dua dan dimulai dengan indentasi (menjorok maju dengan tab). Baris kode setelah titik dua dan dengan indentasi hanya akan dieksekusi ketika **if statement** adalah **True**. Eksekusi berakhir jika baris kode tidak mengandung indentasi.\n",
    "\n",
    "Pada kasus dibawah, kode <code>print(“you can enter”)</code> akan dijalankan jika variabel <code>age</code> lebih besar dari 18 adalah True karena baris kode memiliki inden. Namun, eksekusi dari  <code>print(“move on”)</code> tidak akan dipengaruhi oleh pernyataan if."
   ]
  },
  {
   "cell_type": "code",
   "execution_count": 10,
   "metadata": {
    "colab": {},
    "colab_type": "code",
    "id": "oC0opZ2uxTf8"
   },
   "outputs": [
    {
     "name": "stdout",
     "output_type": "stream",
     "text": [
      "you can enter\n",
      "move on\n"
     ]
    }
   ],
   "source": [
    "# Contoh pernyataan if\n",
    "\n",
    "age = 19\n",
    "#age = 18\n",
    "\n",
    "# Ekspresi yang bisa jadi true atau false\n",
    "if age > 18:\n",
    "    \n",
    "    # Dengan sebuah indentasi, kita memiliki ekspresi yang dijalankan jika kondisinya adalah true\n",
    "    print(\"you can enter\" )\n",
    "\n",
    "# Pernyataan setelah if statemen akan dijalankan bagaimanapun juga jika kondisi adalah ture atau false\n",
    "print(\"move on\")"
   ]
  },
  {
   "cell_type": "markdown",
   "metadata": {
    "colab_type": "text",
    "id": "-pTWUYsqxTf-"
   },
   "source": [
    "*Coba  hapus komentar pada variabel age*"
   ]
  },
  {
   "cell_type": "markdown",
   "metadata": {
    "colab_type": "text",
    "id": "-bLyJW_IxTf_"
   },
   "source": [
    "Ilustrasi dibawah sangat membantu untuk memahami prosesnya. Pada sisi kiri, kita lihat apa yang terjadi ketika kondisinya adalah **True**. Pengunjung memasuki konser ACDC direpresentasikan dengan kode dalam indentasi yang dieksekusi; mereka kemudian berjalan. Pada sisi kanan kita lihat apa yang terjadi ketika kondisinya adalah **False**; pengunjung tidak diberikan akses, dan pengunjung berjalan. Pada kasus ini, segmen kode dalam inden tidak dijalankan, tetapi kode di akhir pernyataan yang akan dijalankan."
   ]
  },
  {
   "cell_type": "markdown",
   "metadata": {
    "colab_type": "text",
    "id": "Ixns8za1xTf_"
   },
   "source": [
    "<img src=\"https://s3-api.us-geo.objectstorage.softlayer.net/cf-courses-data/CognitiveClass/PY0101EN/Chapter%203/Images/CondsIf.gif\" width=\"650\" />"
   ]
  },
  {
   "cell_type": "markdown",
   "metadata": {
    "colab_type": "text",
    "id": "FedXK0GdxTgA"
   },
   "source": [
    "Blok kode pada <code>else</code> akan dijalankan jika tidak ada kondisi **True** sebelum pernyataan <code>else</code> yang terpenuhi. Mari kita gunakan analogi ACDC lagi. Jika pengguna berusia 17, mereka tidak dapat pergi ke konser ACDC, tapi mereka bisa pergi ke konser Meatloaf. Sintaks dari pernyataan <code>else</code> mirip dengan sintaks dari pernyataan <code>if</code>, sebagai <code>else :</code>. Perhatikan, tidak ada pernyataan kondisi untuk <code>else</code>. Coba ubah nilai dari <code>age</code> untuk melihat apa yang terjadi:"
   ]
  },
  {
   "cell_type": "code",
   "execution_count": 11,
   "metadata": {
    "colab": {},
    "colab_type": "code",
    "id": "gyC42SB1xTgC"
   },
   "outputs": [
    {
     "name": "stdout",
     "output_type": "stream",
     "text": [
      "go see Meat Loaf\n",
      "move on\n"
     ]
    }
   ],
   "source": [
    "# Contoh pernyataan else\n",
    "\n",
    "age = 18\n",
    "# age = 19\n",
    "\n",
    "if age > 18:\n",
    "    print(\"you can enter\" )\n",
    "else:\n",
    "    print(\"go see Meat Loaf\" )\n",
    "    \n",
    "print(\"move on\")"
   ]
  },
  {
   "cell_type": "markdown",
   "metadata": {
    "colab_type": "text",
    "id": "xUU8-brjxTgG"
   },
   "source": [
    "Prosesnya didemonstrasikan dibawah ini, dimana tiap kemungkinan di ilustrasikan pada tiap sisi dari gambar. Pada sisi kiri adalah kasus dimana usia adalah 17, kita buat variabel age = 17, dan ini sesuai dengan kehadiran pengunjung pada konser Meatloaf. Porsi sebelah kanan menunjukkan apa yang terjadi ketika pengunjung berusia lebih dari 18, pada kasus ini adalah 19, dan pengunjung diberikan akses ke konser."
   ]
  },
  {
   "cell_type": "markdown",
   "metadata": {
    "colab_type": "text",
    "id": "wpLPR_ilxTgI"
   },
   "source": [
    "<img src=\"https://s3-api.us-geo.objectstorage.softlayer.net/cf-courses-data/CognitiveClass/PY0101EN/Chapter%203/Images/CondsElse.gif\" width=\"650\" />"
   ]
  },
  {
   "cell_type": "markdown",
   "metadata": {
    "colab_type": "text",
    "id": "4y03iMpjxTgJ"
   },
   "source": [
    "Pernyataan <code>elif</code>, kependekan dari else if, memperbolehkan kita untuk mengecek kondisi tambahan jika pernyataan kondisi adalah **False**. Jika kondisi dari pernyataan <code>elif</code> adalah **True**,  ekspresi alternatifnya akan dijalankan. Perhatikan contoh pada konser, dimana jika pengunjung berusia 18 mereka akan pergi ke konser Pink Floyd daripada menghadiri konser ACDC atau Meatloaf. Orang dengan usia 18 tahun memasuki area, dan karena tidak lebih dari 18 tahun, mereka tidak dapat melihat ACDC, terkecuali mereka 18 tahun, mereka menghadiri konser Pink Floyd. Setelah melihat Pink Floyd, mereka berjalan. Sintaks dari pernyataan <code>elif</code> mirip dengan <code>if</code> hanya berubah sedikit dari <code>if</code> menjadi <code>elif</code>."
   ]
  },
  {
   "cell_type": "code",
   "execution_count": 12,
   "metadata": {
    "colab": {},
    "colab_type": "code",
    "id": "fACXCla6xTgL"
   },
   "outputs": [
    {
     "name": "stdout",
     "output_type": "stream",
     "text": [
      "go see Pink Floyd\n",
      "move on\n"
     ]
    }
   ],
   "source": [
    "# Contoh pernyataan elif\n",
    "\n",
    "age = 18\n",
    "\n",
    "if age > 18:\n",
    "    print(\"you can enter\" )\n",
    "elif age == 18:\n",
    "    print(\"go see Pink Floyd\")\n",
    "else:\n",
    "    print(\"go see Meat Loaf\" )\n",
    "    \n",
    "print(\"move on\")"
   ]
  },
  {
   "cell_type": "markdown",
   "metadata": {
    "colab_type": "text",
    "id": "hmGceTo8xTgO"
   },
   "source": [
    "Kombinasi dari ketiganya ditunjukkan pada gambar dibawah. Sisi paling kiri menunjukkan apa yang terjadi ketika pengunjung kurang dari 18 tahun. Sisi tengah menunjukkan ketika pengunjung tepat berusia 18. Sisi ujung kanan menunjukkan ketika pengunjung lebih dari 18 tahun."
   ]
  },
  {
   "cell_type": "markdown",
   "metadata": {
    "colab_type": "text",
    "id": "bH0bwaz5xTgO"
   },
   "source": [
    "<img src =\"https://s3-api.us-geo.objectstorage.softlayer.net/cf-courses-data/CognitiveClass/PY0101EN/Chapter%203/Images/CondsElif.gif\" width=\"650\" />"
   ]
  },
  {
   "cell_type": "markdown",
   "metadata": {
    "colab_type": "text",
    "id": "FkM6SjHQxTgP"
   },
   "source": [
    "Lihat baris kode berikut :\n"
   ]
  },
  {
   "cell_type": "code",
   "execution_count": 13,
   "metadata": {
    "colab": {},
    "colab_type": "code",
    "id": "9STsbj1mxTgQ"
   },
   "outputs": [
    {
     "name": "stdout",
     "output_type": "stream",
     "text": [
      "do something..\n"
     ]
    }
   ],
   "source": [
    "# Contoh pernyataan kondisi\n",
    "\n",
    "album_year = 1983\n",
    "album_year = 1970\n",
    "\n",
    "if album_year > 1980:\n",
    "    print(\"Album year is greater than 1980\")\n",
    "    \n",
    "print('do something..')"
   ]
  },
  {
   "cell_type": "markdown",
   "metadata": {
    "colab_type": "text",
    "id": "looTNvaFxTgT"
   },
   "source": [
    "Ubahlah nilai dari <code>album_year</code> menjadi nilai lainnya -- Anda akan lihat perubahan hasilnya"
   ]
  },
  {
   "cell_type": "markdown",
   "metadata": {
    "colab_type": "text",
    "id": "fTOnMIwDxTgU"
   },
   "source": [
    "Perhatikan kode yang berada di blok indentasi akan hanya di eksekusi jika hasilnya adalah **True**"
   ]
  },
  {
   "cell_type": "markdown",
   "metadata": {
    "colab_type": "text",
    "id": "v9P2IjFGxTgV"
   },
   "source": [
    "Seperti sebelumnya, kita bisa menambahkan pernyataan <code>else</code> ke dalam pernyataan <code>if</code>. Kode dalam <code>else</code> akan hanya di eksekusi jika hasilnya adalah **False**\n",
    "\n",
    "<b>Sintaks:</b> \n",
    "\n",
    "if (condition):\n",
    "    # do something\n",
    "else:\n",
    "    # do something else"
   ]
  },
  {
   "cell_type": "markdown",
   "metadata": {
    "colab_type": "text",
    "id": "1p4RUMgnxTgW"
   },
   "source": [
    "Jika kondisi dalam pernyataan <code>if</code> adalah **False**, pernyataan setelah <code>else</code> akan di eksekusi. Lihat gambar dibawah:"
   ]
  },
  {
   "cell_type": "markdown",
   "metadata": {
    "colab_type": "text",
    "id": "uIPs2MNwxTgX"
   },
   "source": [
    "<img src=\"https://s3-api.us-geo.objectstorage.softlayer.net/cf-courses-data/CognitiveClass/PY0101EN/Chapter%203/Images/CondsLogicMap.png\" width=\"650\" />"
   ]
  },
  {
   "cell_type": "code",
   "execution_count": 14,
   "metadata": {
    "colab": {},
    "colab_type": "code",
    "id": "2zQRvWN3xTgX"
   },
   "outputs": [
    {
     "name": "stdout",
     "output_type": "stream",
     "text": [
      "Album year is greater than 1980\n",
      "do something..\n"
     ]
    }
   ],
   "source": [
    "# Contoh pernyataan kondisi\n",
    "\n",
    "album_year = 1983\n",
    "#album_year = 1970\n",
    "\n",
    "if album_year > 1980:\n",
    "    print(\"Album year is greater than 1980\")\n",
    "else:\n",
    "    print(\"less than 1980\")\n",
    "\n",
    "print('do something..')"
   ]
  },
  {
   "cell_type": "markdown",
   "metadata": {
    "colab_type": "text",
    "id": "XdHKR8-gxTga"
   },
   "source": [
    "Ubahlah nilai dari <code>else</code> menjadi nilai lainnya -- Anda akan lihat perubahan hasilnya!"
   ]
  },
  {
   "cell_type": "markdown",
   "metadata": {
    "colab_type": "text",
    "id": "G6e9cHz0xTga"
   },
   "source": [
    "<h3 id=\"logic\">Logical operators</h3>"
   ]
  },
  {
   "cell_type": "markdown",
   "metadata": {
    "colab_type": "text",
    "id": "P1wM2CjfxTgb"
   },
   "source": [
    "Terkadang Anda ingin untuk mengecek lebih dari satu kondisi. Sebagai contoh, mungkin Anda ingin untuk cek jika satu kondisi dan kondisi lainnya adalah **True**. Operator logika membolehkan Anda untuk menggabungkan atau memodifikasi kondisi ini.\n",
    "\n",
    "<ul>\n",
    "    <li><code>and</code></li>\n",
    "    <li><code>or</code></li>\n",
    "    <li><code>not</code></li>\n",
    "</ul>\n",
    "\n",
    "Hasil dari operasi logika tersebut disajikan dalam *truth table* berikut"
   ]
  },
  {
   "cell_type": "markdown",
   "metadata": {
    "colab_type": "text",
    "id": "GLFclp8OxTgc"
   },
   "source": [
    "<img src=\"https://s3-api.us-geo.objectstorage.softlayer.net/cf-courses-data/CognitiveClass/PY0101EN/Chapter%203/Images/CondsTable.png\" width=\"650\" />"
   ]
  },
  {
   "cell_type": "markdown",
   "metadata": {
    "colab_type": "text",
    "id": "TsxBkj9WxTgc"
   },
   "source": [
    "Operasi <code>and</code> hanya bernilai **True** jika kedua kondisi bernilai benar. Operasi <code>or</code> bernilai benar jika salah satu kondisi bernilai **True**. Pernyataan <code>not</code> menghasilkan negasi dari kondisi sebenarnya."
   ]
  },
  {
   "cell_type": "markdown",
   "metadata": {
    "colab_type": "text",
    "id": "taLL6jPmZF6R"
   },
   "source": [
    "Mari kita coba untuk menentukan apakah suatu album dirilis setelah 1979 (tahun 1979 tidak termasuk) dan sebelum 1990 (tahun 1990) tidak termasuk. Periode antara 1980 dan 1989 akan memenuhi kondisi tersebut, dan ditampilkan pada gambar di bawah ini. Warna hijau pada garis **a** dan **b** menggambarkan periode yang menghasilkan pernyataan bernilai **True**. Warna hijau pada garis **c** menggambarkan daerah dimana kedua kondisi bernilai **True**, yang merupakan perpotongan daerah **a** dan **b** yang bernilai **True**."
   ]
  },
  {
   "cell_type": "markdown",
   "metadata": {
    "colab_type": "text",
    "id": "2gI_X48lxTge"
   },
   "source": [
    "<img src=\"https://s3-api.us-geo.objectstorage.softlayer.net/cf-courses-data/CognitiveClass/PY0101EN/Chapter%203/Images/CondsEgOne.png\" width=\"650\" />"
   ]
  },
  {
   "cell_type": "markdown",
   "metadata": {
    "colab_type": "text",
    "id": "Ha7WcSJ_xTgg"
   },
   "source": [
    "  Kode program untuk melakukan pengecekan adalah sebagai berikut:"
   ]
  },
  {
   "cell_type": "code",
   "execution_count": 15,
   "metadata": {
    "colab": {},
    "colab_type": "code",
    "id": "z3glcs_TxTgh"
   },
   "outputs": [
    {
     "name": "stdout",
     "output_type": "stream",
     "text": [
      "Album year was in between 1980 and 1989\n",
      "\n",
      "Do Stuff..\n"
     ]
    }
   ],
   "source": [
    "# Contoh kondisi\n",
    "\n",
    "album_year = 1980\n",
    "\n",
    "if(album_year > 1979) and (album_year < 1990):\n",
    "    print (\"Album year was in between 1980 and 1989\")\n",
    "    \n",
    "print(\"\")\n",
    "print(\"Do Stuff..\")"
   ]
  },
  {
   "cell_type": "markdown",
   "metadata": {
    "colab_type": "text",
    "id": "S5gmLnw6dS0j"
   },
   "source": [
    "Ilustrasi di bawah ini menunjukkan kondisi apakah sebuah album dirilis sebelum 1980 atau setelah 1989. Warna hijau pada garis **a** menunjukkan periode sebelum 1980 sedangkan warna hijau pada garis **b** menunjukkan periode setelah 1989. Garis berwarna hijau pada **c** menunjukkan kondisi jika salah satu dari **a** atau **b** bernilai **True**."
   ]
  },
  {
   "cell_type": "markdown",
   "metadata": {
    "colab_type": "text",
    "id": "NK84ZARIxTgm"
   },
   "source": [
    "<img src=\"https://s3-api.us-geo.objectstorage.softlayer.net/cf-courses-data/CognitiveClass/PY0101EN/Chapter%203/Images/CondsEgTwo.png\" width=\"650\" />"
   ]
  },
  {
   "cell_type": "markdown",
   "metadata": {
    "colab_type": "text",
    "id": "qsr3vg1GxTgn"
   },
   "source": [
    "Kode untuk melakukan pengecekan adalah sebagai berikut:"
   ]
  },
  {
   "cell_type": "code",
   "execution_count": 16,
   "metadata": {
    "colab": {},
    "colab_type": "code",
    "id": "G9bd_O8dxTgo"
   },
   "outputs": [
    {
     "name": "stdout",
     "output_type": "stream",
     "text": [
      "Album was not made in the 1980's\n"
     ]
    }
   ],
   "source": [
    "# Contoh seleksi kondisi\n",
    "\n",
    "album_year = 1990\n",
    "\n",
    "if(album_year < 1980) or (album_year > 1989):\n",
    "    print (\"Album was not made in the 1980's\")\n",
    "else:\n",
    "    print(\"The Album was made in the 1980's \")"
   ]
  },
  {
   "cell_type": "markdown",
   "metadata": {
    "colab_type": "text",
    "id": "23zPQXN0xTgr"
   },
   "source": [
    "Pernyataan <code>not</code> digunakan untuk mengecek apakah suatu pernyataan bernilai salah"
   ]
  },
  {
   "cell_type": "code",
   "execution_count": 17,
   "metadata": {
    "colab": {},
    "colab_type": "code",
    "id": "KwjULR97xTgs"
   },
   "outputs": [
    {
     "name": "stdout",
     "output_type": "stream",
     "text": [
      "Album year is not 1984\n"
     ]
    }
   ],
   "source": [
    "# Contoh seleksi kondisi\n",
    "\n",
    "album_year = 1983\n",
    "\n",
    "if not (album_year == '1984'):\n",
    "    print (\"Album year is not 1984\")"
   ]
  },
  {
   "cell_type": "markdown",
   "metadata": {
    "colab_type": "text",
    "id": "R0MIJWyzxTgv"
   },
   "source": [
    "<hr>"
   ]
  },
  {
   "cell_type": "markdown",
   "metadata": {
    "colab_type": "text",
    "id": "wFiQ06DNxTgw"
   },
   "source": [
    "<h2 id=\"quiz\">Kuis mengenai Kondisi</h2>"
   ]
  },
  {
   "cell_type": "markdown",
   "metadata": {
    "colab_type": "text",
    "id": "KLEqm8ONjCdO"
   },
   "source": [
    "Tulislah sebuah pernyataan untuk menentukan apakah sebuah album memiliki rating lebih dari 8. Ujilah menggunakan album **Back in Black** yang memiliki rating sebesar 8,5. Jika pernyataan bernilai benar, tampilkan kalimat \"This album is Amazing!\""
   ]
  },
  {
   "cell_type": "code",
   "execution_count": 18,
   "metadata": {
    "colab": {},
    "colab_type": "code",
    "collapsed": true,
    "id": "tQHGycWXxTgy"
   },
   "outputs": [],
   "source": [
    "# Tulis kode anda dibawah ini dan tekan Shift+Enter untuk melakukan eksekusi"
   ]
  },
  {
   "cell_type": "markdown",
   "metadata": {
    "colab_type": "text",
    "id": "38FZyhuwxTg5"
   },
   "source": [
    "\n",
    "Double-click __disini__ untuk melihat jawabannya.\n",
    "\n",
    "<!-- \n",
    "rating = 8.5\n",
    "if rating > 8:\n",
    "    print (\"This album is Amazing!\")\n",
    " -->"
   ]
  },
  {
   "cell_type": "markdown",
   "metadata": {
    "colab_type": "text",
    "id": "b-AYkwXvxTg6"
   },
   "source": [
    "<hr>"
   ]
  },
  {
   "cell_type": "markdown",
   "metadata": {
    "colab_type": "text",
    "id": "G7UyFWEtkIQ0"
   },
   "source": [
    "Tulislah pernyataan if-else yang melakukan operasi berikut: Jika rating lebih dari 8 tampilkan \"this album is amazing\", jika rating kurang dari atau sama dengan 8 tampilkan \"this album is ok\""
   ]
  },
  {
   "cell_type": "code",
   "execution_count": 19,
   "metadata": {
    "colab": {},
    "colab_type": "code",
    "collapsed": true,
    "id": "hd2s2RmCxTg7"
   },
   "outputs": [],
   "source": [
    "# Tulis kode anda dibawah ini dan tekan Shift+Enter untuk melakukan eksekusi"
   ]
  },
  {
   "cell_type": "markdown",
   "metadata": {
    "colab_type": "text",
    "id": "F0hOH3NhxTg-"
   },
   "source": [
    "Double-click __disini__ untuk melihat jawabannya.\n",
    "<!-- \n",
    "rating = 8.5\n",
    "if rating > 8:\n",
    "    print (\"this album is amazing\")\n",
    "else:\n",
    "    print (\"this album is ok\")\n",
    "-->"
   ]
  },
  {
   "cell_type": "markdown",
   "metadata": {
    "colab_type": "text",
    "id": "yLcIYNFNxTg_"
   },
   "source": [
    "<hr>"
   ]
  },
  {
   "cell_type": "markdown",
   "metadata": {
    "colab_type": "text",
    "id": "0D846lbNxTg_"
   },
   "source": [
    "Write an if statement to determine if an album came out before 1980 or in the years: 1991 or 1993. If the condition is true print out the year the album came out."
   ]
  },
  {
   "cell_type": "markdown",
   "metadata": {
    "colab_type": "text",
    "id": "VN-OqEJNrR06"
   },
   "source": [
    "Tulislah sebuah pernyataan <code>if</code> untuk menentukan apakah sebuah album dirilis sebelum tahun 1980 atau pada salah satu tahun berikut : 1991 atau 1993. Jika kondisi tersebut terpenuhi, tampilkan tahun rilis dari album tersebut"
   ]
  },
  {
   "cell_type": "code",
   "execution_count": 20,
   "metadata": {
    "colab": {},
    "colab_type": "code",
    "collapsed": true,
    "id": "ShQi7juJxThA"
   },
   "outputs": [],
   "source": [
    "# Tulis kode anda dibawah ini dan tekan Shift+Enter untuk melakukan eksekusi"
   ]
  },
  {
   "cell_type": "markdown",
   "metadata": {
    "colab_type": "text",
    "id": "_7IhVXmoxThE"
   },
   "source": [
    "Double-click __disini__ untuk melihat jawabannya.\n",
    "\n",
    "<!-- \n",
    "album_year = 1979\n",
    "\n",
    "if album_year < 1980 or album_year == 1991 or album_year == 1993:\n",
    "    print (album_year)\n",
    "-->"
   ]
  },
  {
   "cell_type": "markdown",
   "metadata": {
    "colab_type": "text",
    "id": "6QPDxV3TxThG"
   },
   "source": [
    "<h3>About the Authors:</h3>  \n",
    "<p><a href=\"https://www.linkedin.com/in/joseph-s-50398b136/\" target=\"_blank\">Joseph Santarcangelo</a> is a Data Scientist at IBM, and holds a PhD in Electrical Engineering. His research focused on using Machine Learning, Signal Processing, and Computer Vision to determine how videos impact human cognition. Joseph has been working for IBM since he completed his PhD.</p>"
   ]
  },
  {
   "cell_type": "markdown",
   "metadata": {
    "colab_type": "text",
    "id": "gjOZ3pqoxThI"
   },
   "source": [
    "Other contributors: <a href=\"www.linkedin.com/in/jiahui-mavis-zhou-a4537814a\">Mavis Zhou</a>"
   ]
  },
  {
   "cell_type": "markdown",
   "metadata": {
    "colab_type": "text",
    "id": "qtY6KFhJxThJ"
   },
   "source": [
    "<hr>"
   ]
  },
  {
   "cell_type": "markdown",
   "metadata": {
    "colab_type": "text",
    "id": "_Jtr-KjjxThK"
   },
   "source": [
    "<p>Copyright &copy; 2018 IBM Developer Skills Network. This notebook and its source code are released under the terms of the <a href=\"https://cognitiveclass.ai/mit-license/\">MIT License</a>.</p>"
   ]
  }
 ],
 "metadata": {
  "colab": {
   "collapsed_sections": [],
   "name": "Lab-Sesi9-1.ipynb",
   "provenance": [],
   "version": "0.3.2"
  },
  "kernelspec": {
   "display_name": "Python 3",
   "language": "python",
   "name": "python3"
  },
  "language_info": {
   "codemirror_mode": {
    "name": "ipython",
    "version": 3
   },
   "file_extension": ".py",
   "mimetype": "text/x-python",
   "name": "python",
   "nbconvert_exporter": "python",
   "pygments_lexer": "ipython3",
   "version": "3.6.3"
  }
 },
 "nbformat": 4,
 "nbformat_minor": 1
}
