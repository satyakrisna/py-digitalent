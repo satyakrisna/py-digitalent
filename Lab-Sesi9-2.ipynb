{
 "cells": [
  {
   "cell_type": "markdown",
   "metadata": {
    "colab_type": "text",
    "id": "mB7WWcEdYYNh"
   },
   "source": [
    "![title](img/header.png)"
   ]
  },
  {
   "cell_type": "markdown",
   "metadata": {
    "colab_type": "text",
    "id": "a8PMaS_LYYNi"
   },
   "source": [
    "<h1>Perulangan di Python</h1>"
   ]
  },
  {
   "cell_type": "markdown",
   "metadata": {
    "colab_type": "text",
    "id": "ZxIMkAgeuUsv"
   },
   "source": [
    "Notebook ini akan mengajarkan Anda materi mengenai perulangan di bahasa Python. Pada akhir lab ini, Anda diharapkan memahami cara menggunakan perulangan pada Python, terutama perulangan <code>for</code> dan <code>while</code>"
   ]
  },
  {
   "cell_type": "markdown",
   "metadata": {
    "colab_type": "text",
    "id": "PR35qH-XYYNk"
   },
   "source": [
    "<h2>Daftar Isi</h2>\n",
    "<div class=\"alert alert-block alert-info\" style=\"margin-top: 20px\">\n",
    "    <ul>\n",
    "        <li>\n",
    "            <a href=\"#loop\">Perulangan</a>\n",
    "            <ul>\n",
    "                <li><a href=\"range\">Range</a></li>\n",
    "              <li><a href=\"for\">Perulangan <code>for</code></a></li>\n",
    "                <li><a href=\"while\">Perulangan <code>while</code></a></li>\n",
    "            </ul>\n",
    "        </li>\n",
    "        <li>\n",
    "            <a href=\"#quiz\">Kuis tentang perulangan</a>\n",
    "        </li>\n",
    "    </ul>\n",
    "    <p>\n",
    "        Estimasi waktu pengerjaan: <strong>20 menit\n",
    "</strong>\n",
    "    </p>\n",
    "</div>\n",
    "\n",
    "<hr>"
   ]
  },
  {
   "cell_type": "markdown",
   "metadata": {
    "colab_type": "text",
    "id": "MGJm-HZ_YYNl"
   },
   "source": [
    "<h2 id=\"loop\">Perulangan</h2>"
   ]
  },
  {
   "cell_type": "markdown",
   "metadata": {
    "colab_type": "text",
    "id": "fgDBW6fxYYNm"
   },
   "source": [
    "<h3 id=\"range\">Range</h3>"
   ]
  },
  {
   "cell_type": "markdown",
   "metadata": {
    "colab_type": "text",
    "id": "64ukwpjeYYNn"
   },
   "source": [
    "Kadangkala, Anda ingin menjalankan suatu perintah berulangkali. Sebelum membahas perulangan, akan lebih baik jika mengetahui perintah <code>range</code> terlebih dahulu.\n",
    "<code>range</code> merupakan fungsi yang menghasilkan <code>list</code> dengan nilai berurutan. Sebagai contoh, jika Anda menginginkan <code>list</code> yang terdiri dari 3 elemen berurutan dari 0 sampai 2, gunakan perintah berikut:"
   ]
  },
  {
   "cell_type": "code",
   "execution_count": 1,
   "metadata": {
    "colab": {},
    "colab_type": "code",
    "id": "ruuV2_QXYYNo"
   },
   "outputs": [
    {
     "data": {
      "text/plain": [
       "range(0, 3)"
      ]
     },
     "execution_count": 1,
     "metadata": {},
     "output_type": "execute_result"
    }
   ],
   "source": [
    "# Penggunaan range\n",
    "\n",
    "range(3)"
   ]
  },
  {
   "cell_type": "markdown",
   "metadata": {
    "colab_type": "text",
    "id": "zH9_cJrFYYNt"
   },
   "source": [
    "<img src=\"https://s3-api.us-geo.objectstorage.softlayer.net/cf-courses-data/CognitiveClass/PY0101EN/Chapter%203/Images/LoopsRange.png\" width=\"300\" />"
   ]
  },
  {
   "cell_type": "markdown",
   "metadata": {
    "colab_type": "text",
    "id": "Eix6qVpYYYNt"
   },
   "source": [
    "<h3 id=\"for\">Perulangan <code>for</code></h3>"
   ]
  },
  {
   "cell_type": "markdown",
   "metadata": {
    "colab_type": "text",
    "id": "r97liMC_YYNu"
   },
   "source": [
    "Perulangan <code>for</code> digunakan untuk mengeksekusi suatu blok kode berulang kali. Sebagai contoh, Anda dapat menggunakannya untuk menampilkan setiap elemen dari sebuah <code>list</code>. Pada contoh di bawah ini, perintah <code>for</code>  digunakan untuk menampilkan setiap tahun yang berada pada list <code>dates</code>:"
   ]
  },
  {
   "cell_type": "code",
   "execution_count": 2,
   "metadata": {
    "colab": {},
    "colab_type": "code",
    "id": "046QQyobYYNw"
   },
   "outputs": [
    {
     "name": "stdout",
     "output_type": "stream",
     "text": [
      "1982\n",
      "1980\n",
      "1973\n"
     ]
    }
   ],
   "source": [
    "# Contoh perulangan for\n",
    "\n",
    "dates = [1982,1980,1973]\n",
    "N = len(dates)\n",
    "\n",
    "for i in range(N):\n",
    "    print(dates[i])     "
   ]
  },
  {
   "cell_type": "markdown",
   "metadata": {
    "colab_type": "text",
    "id": "3HZniElPYYN0"
   },
   "source": [
    "Kode yang terletak pada indentasi (menjorok masuk) dijalankan sebanyak <code>N</code>  kali, setiap kali dieksekusi nilai <code>i</code> akan dinaikkan sebesar 1. Pernyataan yang dijalankan dalam perulangan <code>for</code> adalah fungsi <code>print</code> untuk menampilkan nilai list pada indeks ke-<code>i</code> sebagai berikut:"
   ]
  },
  {
   "cell_type": "markdown",
   "metadata": {
    "colab_type": "text",
    "id": "KHC7S-F_YYN1"
   },
   "source": [
    "<img src=\"https://s3-api.us-geo.objectstorage.softlayer.net/cf-courses-data/CognitiveClass/PY0101EN/Chapter%203/Images/LoopsForRange.gif\" width=\"800\" />"
   ]
  },
  {
   "cell_type": "markdown",
   "metadata": {
    "colab_type": "text",
    "id": "AYwmjfiHYYN2"
   },
   "source": [
    "\n",
    "Pada contoh di bawah ini, urutan angka dari 0 sampai 7 akan ditampilkan:"
   ]
  },
  {
   "cell_type": "code",
   "execution_count": 3,
   "metadata": {
    "colab": {},
    "colab_type": "code",
    "id": "DnZnzLN8YYN3"
   },
   "outputs": [
    {
     "name": "stdout",
     "output_type": "stream",
     "text": [
      "0\n",
      "1\n",
      "2\n",
      "3\n",
      "4\n",
      "5\n",
      "6\n",
      "7\n"
     ]
    }
   ],
   "source": [
    "# Contoh perulangan for\n",
    "\n",
    "for i in range(0, 8):\n",
    "    print(i)"
   ]
  },
  {
   "cell_type": "markdown",
   "metadata": {
    "colab_type": "text",
    "id": "EPO-TbziYYOA"
   },
   "source": [
    "Pada Python, setiap elemen pada list dapat diakses secara langsung:"
   ]
  },
  {
   "cell_type": "code",
   "execution_count": 4,
   "metadata": {
    "colab": {},
    "colab_type": "code",
    "id": "drVGlrmXYYOC"
   },
   "outputs": [
    {
     "name": "stdout",
     "output_type": "stream",
     "text": [
      "1982\n",
      "1980\n",
      "1973\n"
     ]
    }
   ],
   "source": [
    "# Contoh perulangan for untuk list\n",
    "\n",
    "for year in dates:  \n",
    "    print(year)   "
   ]
  },
  {
   "cell_type": "markdown",
   "metadata": {
    "colab_type": "text",
    "id": "c0PWFTYkYYOK"
   },
   "source": [
    "Pada setiap iterasi, nilai dari variabel <code>year</code> sama dengan nilai variabel <code>dates[i]</code> pada contoh sebelumnya:"
   ]
  },
  {
   "cell_type": "markdown",
   "metadata": {
    "colab_type": "text",
    "id": "J73hlsjqYYOM"
   },
   "source": [
    "<img src=\"https://s3-api.us-geo.objectstorage.softlayer.net/cf-courses-data/CognitiveClass/PY0101EN/Chapter%203/Images/LoopsForList.gif\" width=\"800\">"
   ]
  },
  {
   "cell_type": "markdown",
   "metadata": {
    "colab_type": "text",
    "id": "XE8t3cVVYYOR"
   },
   "source": [
    "Elemen-elemen pada list dapat diubah dalam perulangan:"
   ]
  },
  {
   "cell_type": "code",
   "execution_count": 5,
   "metadata": {
    "colab": {},
    "colab_type": "code",
    "id": "Nzw57x39YYOS"
   },
   "outputs": [
    {
     "name": "stdout",
     "output_type": "stream",
     "text": [
      "Before square  0 is red\n",
      "After square  0 is weight\n",
      "Before square  1 is yellow\n",
      "After square  1 is weight\n",
      "Before square  2 is green\n",
      "After square  2 is weight\n",
      "Before square  3 is purple\n",
      "After square  3 is weight\n",
      "Before square  4 is blue\n",
      "After square  4 is weight\n"
     ]
    }
   ],
   "source": [
    "# Gunakan perulangan for untuk mengubah nilai elemen pada list\n",
    "\n",
    "squares = ['red', 'yellow', 'green', 'purple', 'blue']\n",
    "\n",
    "for i in range(0, 5):\n",
    "    print(\"Before square \", i, 'is',  squares[i])\n",
    "    squares[i] = 'weight'\n",
    "    print(\"After square \", i, 'is',  squares[i])"
   ]
  },
  {
   "cell_type": "markdown",
   "metadata": {
    "colab_type": "text",
    "id": "ncaXRYzuYYOY"
   },
   "source": [
    "Pengaksesan indeks dan elemen pada list dapat pula dilakukan dengan cara sebagai berikut:"
   ]
  },
  {
   "cell_type": "code",
   "execution_count": 6,
   "metadata": {
    "colab": {},
    "colab_type": "code",
    "id": "_SmYu1tAYYOa"
   },
   "outputs": [
    {
     "name": "stdout",
     "output_type": "stream",
     "text": [
      "0 red\n",
      "1 yellow\n",
      "2 green\n",
      "3 purple\n",
      "4 blue\n"
     ]
    }
   ],
   "source": [
    "# Perulangan pada list disertai pengaksesan indeks dan elemen secara bersamaan\n",
    "\n",
    "squares=['red', 'yellow', 'green', 'purple', 'blue']\n",
    "\n",
    "for i, square in enumerate(squares):\n",
    "    print(i, square)"
   ]
  },
  {
   "cell_type": "markdown",
   "metadata": {
    "colab_type": "text",
    "id": "vXOwc6NCYYOe"
   },
   "source": [
    "<h3 id=\"while\">Perulangan <code>while</code></h3>"
   ]
  },
  {
   "cell_type": "markdown",
   "metadata": {
    "colab_type": "text",
    "id": "Re9cRChBYYOf"
   },
   "source": [
    "<code>for</code> dapat digunakan untuk melakukan perulangan, terutama jika kita mengetahui berapa kali perulangan tersebut akan dilakukan. Namun, bagaimana jika kita melakukan perulangan tanpa mengetahui berapa kali perulangan dilakukan? Bagaimana jika kita ingin melakukan perulangan terus-menerus sampai suatu kondisi tertentu terpenuhi? Perintah <code>while</code> digunakan untuk melakukan perulangan berdasarkan suatu kondisi tertentu. Blok kode pada <code>while</code> akan dieksekusi sampai kondisi berhenti bernilai **False**"
   ]
  },
  {
   "cell_type": "markdown",
   "metadata": {
    "colab_type": "text",
    "id": "MyPm7TXHYYOg"
   },
   "source": [
    "Misalkan kita ingin menampilkan tahun pada list <code>dates</code> dan berhenti pada tahun 1973 serta menampilkan banyaknya iterasi. Kode di bawah ini menggunakan  <code>while</code> untuk melakukan perulangan:"
   ]
  },
  {
   "cell_type": "code",
   "execution_count": 7,
   "metadata": {
    "colab": {},
    "colab_type": "code",
    "id": "GTfm0ZgXYYOh"
   },
   "outputs": [
    {
     "name": "stdout",
     "output_type": "stream",
     "text": [
      "1982\n",
      "1980\n",
      "1973\n",
      "It took  3 repetitions to get out of loop.\n"
     ]
    }
   ],
   "source": [
    "# Contoh perulangan while\n",
    "\n",
    "dates = [1982, 1980, 1973, 2000]\n",
    "\n",
    "i = 0\n",
    "year = 0\n",
    "\n",
    "while(year != 1973):\n",
    "    year = dates[i]\n",
    "    i = i + 1\n",
    "    print(year)\n",
    "\n",
    "print(\"It took \", i ,\"repetitions to get out of loop.\")"
   ]
  },
  {
   "cell_type": "markdown",
   "metadata": {
    "colab_type": "text",
    "id": "CROTiWmaYYOl"
   },
   "source": [
    "A while loop iterates merely until the condition in the argument is not  met, as shown in the following figure:"
   ]
  },
  {
   "cell_type": "markdown",
   "metadata": {
    "colab_type": "text",
    "id": "wJ72RS4UYYOm"
   },
   "source": [
    "<img src=\"https://s3-api.us-geo.objectstorage.softlayer.net/cf-courses-data/CognitiveClass/PY0101EN/Chapter%203/Images/LoopsWhile.gif\" width=\"650\" />"
   ]
  },
  {
   "cell_type": "markdown",
   "metadata": {
    "colab_type": "text",
    "id": "rxLAYBQBYYOo"
   },
   "source": [
    "<hr>"
   ]
  },
  {
   "cell_type": "markdown",
   "metadata": {
    "colab_type": "text",
    "id": "2Dcp1itCYYOq"
   },
   "source": [
    "<h2 id=\"quiz\">Kuis mengenai Perulangan</h2>"
   ]
  },
  {
   "cell_type": "markdown",
   "metadata": {
    "colab_type": "text",
    "id": "jyyZ5sl8YYOr"
   },
   "source": [
    "Tuliskan kode program menggunakan perulangan <code>for</code> untuk menampilkan bilangan di antara **-5** dan **5** menggunakan fungsi <code>range</code>"
   ]
  },
  {
   "cell_type": "code",
   "execution_count": 8,
   "metadata": {
    "colab": {},
    "colab_type": "code",
    "collapsed": true,
    "id": "dHOi4MKTYYOs"
   },
   "outputs": [],
   "source": [
    "# Tulis kode anda dibawah ini dan tekan Shift+Enter untuk melakukan eksekusi"
   ]
  },
  {
   "cell_type": "markdown",
   "metadata": {
    "colab_type": "text",
    "id": "uQIeaQAcYYOx"
   },
   "source": [
    "Double-click __di sini__ untuk membuka jawaban.\n",
    "\n",
    "<!-- \n",
    "for i in range(-5, 6):\n",
    "    print(i)\n",
    "-->"
   ]
  },
  {
   "cell_type": "markdown",
   "metadata": {
    "colab_type": "text",
    "id": "S9ZN5qRfYYOy"
   },
   "source": [
    "Tampilkan setiap elemen dari list berikut :\n",
    "<code>Genres=[ 'rock', 'R&B', 'Soundtrack', 'R&B', 'soul', 'pop']</code>"
   ]
  },
  {
   "cell_type": "code",
   "execution_count": 9,
   "metadata": {
    "colab": {},
    "colab_type": "code",
    "collapsed": true,
    "id": "x7O85EUEYYOz"
   },
   "outputs": [],
   "source": [
    "# Tulis kode anda dibawah ini dan tekan Shift+Enter untuk melakukan eksekusi"
   ]
  },
  {
   "cell_type": "markdown",
   "metadata": {
    "colab_type": "text",
    "id": "cT1RnwkmYYO3"
   },
   "source": [
    "Double-click __di sini__ untuk membuka jawaban.\n",
    "\n",
    "<!-- \n",
    "Genres = ['rock', 'R&B', 'Soundtrack', 'R&B', 'soul', 'pop']\n",
    "for Genre in Genres:\n",
    "    print(Genre)\n",
    "-->"
   ]
  },
  {
   "cell_type": "markdown",
   "metadata": {
    "colab_type": "text",
    "id": "yh6FuLR3YYO5"
   },
   "source": [
    "<hr>"
   ]
  },
  {
   "cell_type": "markdown",
   "metadata": {
    "colab_type": "text",
    "id": "KqpwdqkjYYO6"
   },
   "source": [
    "\n",
    "\n",
    "Tuliskan perulangan <code>for</code> untuk menampilkan list berikut :<code>squares=['red', 'yellow', 'green', 'purple', 'blue']</code>"
   ]
  },
  {
   "cell_type": "code",
   "execution_count": 10,
   "metadata": {
    "colab": {},
    "colab_type": "code",
    "collapsed": true,
    "id": "SXssoLqoYYO7"
   },
   "outputs": [],
   "source": [
    "# Tulis kode anda dibawah ini dan tekan Shift+Enter untuk melakukan eksekusi"
   ]
  },
  {
   "cell_type": "markdown",
   "metadata": {
    "colab_type": "text",
    "id": "XIvAHM5fYYPA"
   },
   "source": [
    "Double-click __di sini__ untuk membuka jawaban.\n",
    "<!-- \n",
    "squares=['red', 'yellow', 'green', 'purple', 'blue']\n",
    "for square in squares:\n",
    "    print(square)\n",
    " -->"
   ]
  },
  {
   "cell_type": "markdown",
   "metadata": {
    "colab_type": "text",
    "id": "fVpGS08bYYPN"
   },
   "source": [
    "<hr>"
   ]
  },
  {
   "cell_type": "markdown",
   "metadata": {
    "colab_type": "text",
    "id": "crNdIPUlYYPQ"
   },
   "source": [
    "Tulislah perulangan <code>while</code> untuk menampilkan nilai Rating yang disimpan pada list <code>PlayListRatings</code>. Jika nilai kurang dari 6, keluar dari perulangan. List <code>PlayListRatings</code> adalah sebagai berikut: <code>PlayListRatings = [10, 9.5, 10, 8, 7.5, 5, 10, 10]</code>"
   ]
  },
  {
   "cell_type": "code",
   "execution_count": 11,
   "metadata": {
    "colab": {},
    "colab_type": "code",
    "collapsed": true,
    "id": "eU78YiKIYYPT"
   },
   "outputs": [],
   "source": [
    "# Tulis kode anda dibawah ini dan tekan Shift+Enter untuk melakukan eksekusi"
   ]
  },
  {
   "cell_type": "markdown",
   "metadata": {
    "colab_type": "text",
    "id": "doX2Gg-kYYPk"
   },
   "source": [
    "Double-click __di sini__ untuk membuka jawaban.\n",
    "<!-- \n",
    "PlayListRatings = [10, 9.5, 10, 8, 7.5, 5, 10, 10]\n",
    "i = 1\n",
    "Rating = PlayListRatings[0]\n",
    "while(Rating >= 6):\n",
    "    print(Rating)\n",
    "    Rating = PlayListRatings[i]\n",
    "    i = i + 1\n",
    " -->"
   ]
  },
  {
   "cell_type": "markdown",
   "metadata": {
    "colab_type": "text",
    "id": "1Syug0fWYYPl"
   },
   "source": [
    "<hr>"
   ]
  },
  {
   "cell_type": "markdown",
   "metadata": {
    "colab_type": "text",
    "id": "acL0uorIYYPm"
   },
   "source": [
    "Tulislah perulangan <code>while</code> untuk menyalin string <code>'orange'</code> dari list <code>squares</code> ke list <code>new_squares</code>. Keluar dari perulangan jika menjumpai elemen list yang bukan <code>'orange'</code>:"
   ]
  },
  {
   "cell_type": "code",
   "execution_count": 12,
   "metadata": {
    "colab": {},
    "colab_type": "code",
    "collapsed": true,
    "id": "aOpy8i2SYYPo"
   },
   "outputs": [],
   "source": [
    "# Tulis kode anda dibawah ini dan tekan Shift+Enter untuk melakukan eksekusi\n",
    "\n",
    "squares = ['orange', 'orange', 'purple', 'blue ', 'orange']\n",
    "new_squares = []"
   ]
  },
  {
   "cell_type": "markdown",
   "metadata": {
    "colab_type": "text",
    "id": "YgvnXOTYYYPt"
   },
   "source": [
    "Double-click __di sini__ untuk membuka jawaban.\n",
    "<!-- \n",
    "squares = ['orange', 'orange', 'purple', 'blue ', 'orange']\n",
    "new_squares = []\n",
    "i = 0\n",
    "while(squares[i] == 'orange'):\n",
    "    new_squares.append(squares[i])\n",
    "    i = i + 1\n",
    "print (new_squares)\n",
    " -->"
   ]
  },
  {
   "cell_type": "markdown",
   "metadata": {
    "colab_type": "text",
    "id": "_SUUfe5NYYPx"
   },
   "source": [
    "<h3>About the Authors:</h3>  \n",
    "<p><a href=\"https://www.linkedin.com/in/joseph-s-50398b136/\" target=\"_blank\">Joseph Santarcangelo</a> is a Data Scientist at IBM, and holds a PhD in Electrical Engineering. His research focused on using Machine Learning, Signal Processing, and Computer Vision to determine how videos impact human cognition. Joseph has been working for IBM since he completed his PhD.</p>"
   ]
  },
  {
   "cell_type": "markdown",
   "metadata": {
    "colab_type": "text",
    "id": "tdKDZSsvYYPy"
   },
   "source": [
    "Other contributors: <a href=\"www.linkedin.com/in/jiahui-mavis-zhou-a4537814a\">Mavis Zhou</a>, <a href=\"https://www.linkedin.com/in/reevejamesd/\">James Reeve</a>"
   ]
  },
  {
   "cell_type": "markdown",
   "metadata": {
    "colab_type": "text",
    "id": "yKWxEgeYYYPy"
   },
   "source": [
    "<hr>"
   ]
  },
  {
   "cell_type": "markdown",
   "metadata": {
    "colab_type": "text",
    "id": "RKhRAkEqYYPz"
   },
   "source": [
    "<p>Copyright &copy; 2018 IBM Developer Skills Network. This notebook and its source code are released under the terms of the <a href=\"https://cognitiveclass.ai/mit-license/\">MIT License</a>.</p>"
   ]
  }
 ],
 "metadata": {
  "colab": {
   "collapsed_sections": [],
   "name": "Lab-Sesi9-2.ipynb",
   "provenance": [],
   "version": "0.3.2"
  },
  "kernelspec": {
   "display_name": "Python 3",
   "language": "python",
   "name": "python3"
  },
  "language_info": {
   "codemirror_mode": {
    "name": "ipython",
    "version": 3
   },
   "file_extension": ".py",
   "mimetype": "text/x-python",
   "name": "python",
   "nbconvert_exporter": "python",
   "pygments_lexer": "ipython3",
   "version": "3.6.3"
  }
 },
 "nbformat": 4,
 "nbformat_minor": 1
}
